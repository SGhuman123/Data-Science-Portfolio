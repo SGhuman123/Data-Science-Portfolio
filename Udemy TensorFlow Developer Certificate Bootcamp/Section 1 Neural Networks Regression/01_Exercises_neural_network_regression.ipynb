{
  "nbformat": 4,
  "nbformat_minor": 0,
  "metadata": {
    "colab": {
      "provenance": [],
      "authorship_tag": "ABX9TyMT4H0qXzb2jDjsR1l/uc9o",
      "include_colab_link": true
    },
    "kernelspec": {
      "name": "python3",
      "display_name": "Python 3"
    },
    "language_info": {
      "name": "python"
    }
  },
  "cells": [
    {
      "cell_type": "markdown",
      "metadata": {
        "id": "view-in-github",
        "colab_type": "text"
      },
      "source": [
        "<a href=\"https://colab.research.google.com/github/SGhuman123/Data-Science-Portfolio/blob/main/Udemy%20TensorFlow%20Developer%20Certificate%20Bootcamp/Section%201%20Neural%20Networks%20Regression/01_Exercises_neural_network_regression.ipynb\" target=\"_parent\"><img src=\"https://colab.research.google.com/assets/colab-badge.svg\" alt=\"Open In Colab\"/></a>"
      ]
    },
    {
      "cell_type": "markdown",
      "source": [
        "# 🛠 01_Neural_network_regression_in_Tensorflow Exercises\n",
        "\n",
        "1. Create your own regression dataset (or make the one we created in \"Create data to view and fit\" bigger) and build fit a model to it.\n",
        "2. Try building a neural network with 4 Dense layers and fitting it to your own regression dataset, how does it perform?\n",
        "3. Try and improve the results we got on the insurance dataset, some things you might want to try include:\n",
        "  - Building a larger model (how does one with 4 dense layers go?).\n",
        "  - Increasing the number of units in each layer.\n",
        "  - Lookup the documentation of Adam and find out what the first parameter is, what happens if you increase it by 10x?\n",
        "  - What happens if you train for longer (say 300 epochs instead of 200)?\n",
        "4. Import the Boston pricing dataset from TensorFlow `tf.keras.datasets` and model it."
      ],
      "metadata": {
        "id": "y00yb3OFgzi1"
      }
    },
    {
      "cell_type": "markdown",
      "source": [
        "## Load up the necessary libraries"
      ],
      "metadata": {
        "id": "K0hN8VK_-rtt"
      }
    },
    {
      "cell_type": "code",
      "source": [
        "# Import TensorFlow\n",
        "import tensorflow as tf\n",
        "import pandas as pd\n",
        "import matplotlib.pyplot as plt\n",
        "\n",
        "print(tf.__version__)"
      ],
      "metadata": {
        "id": "owbpNawnhLE1",
        "colab": {
          "base_uri": "https://localhost:8080/"
        },
        "outputId": "affae4f2-3a77-4746-bc44-4b6ea2cf0722"
      },
      "execution_count": null,
      "outputs": [
        {
          "output_type": "stream",
          "name": "stdout",
          "text": [
            "2.12.0\n"
          ]
        }
      ]
    },
    {
      "cell_type": "markdown",
      "source": [
        "## 1. Create your own regression dataset (or make the one we created in \"Create data to view and fit\" bigger) and build fit a model to it. && 4. Import the Boston pricing dataset from TensorFlow `tf.keras.datasets` and model it.\n"
      ],
      "metadata": {
        "id": "WGJxUAMuRq8R"
      }
    },
    {
      "cell_type": "code",
      "source": [
        "(X_train, y_train), (X_test, y_test) = tf.keras.datasets.boston_housing.load_data(path=\"boston_housing.npz\", test_split=0.2, seed=43)\n",
        "\n",
        "print(X_train.shape, y_train.shape)\n",
        "print(X_test.shape, y_test.shape)\n"
      ],
      "metadata": {
        "colab": {
          "base_uri": "https://localhost:8080/"
        },
        "id": "qLmq8pku-rCa",
        "outputId": "5271b6cc-3ec9-4071-890c-0232eec51ac4"
      },
      "execution_count": null,
      "outputs": [
        {
          "output_type": "stream",
          "name": "stdout",
          "text": [
            "(404, 13) (404,)\n",
            "(102, 13) (102,)\n"
          ]
        }
      ]
    },
    {
      "cell_type": "code",
      "source": [
        "X_test"
      ],
      "metadata": {
        "colab": {
          "base_uri": "https://localhost:8080/"
        },
        "id": "Vy9BoZgoGSFY",
        "outputId": "4a83bd11-89e8-4aae-8431-d6d5ca6fe67b"
      },
      "execution_count": null,
      "outputs": [
        {
          "output_type": "execute_result",
          "data": {
            "text/plain": [
              "array([[3.7680e-02, 8.0000e+01, 1.5200e+00, ..., 1.2600e+01, 3.9220e+02,\n",
              "        6.6200e+00],\n",
              "       [2.1977e-01, 0.0000e+00, 6.9100e+00, ..., 1.7900e+01, 3.9690e+02,\n",
              "        1.6200e+01],\n",
              "       [6.4660e-02, 7.0000e+01, 2.2400e+00, ..., 1.4800e+01, 3.6824e+02,\n",
              "        4.9700e+00],\n",
              "       ...,\n",
              "       [3.5480e-02, 8.0000e+01, 3.6400e+00, ..., 1.6400e+01, 3.9518e+02,\n",
              "        9.2500e+00],\n",
              "       [1.6760e-01, 0.0000e+00, 7.3800e+00, ..., 1.9600e+01, 3.9690e+02,\n",
              "        7.2000e+00],\n",
              "       [3.4109e-01, 0.0000e+00, 7.3800e+00, ..., 1.9600e+01, 3.9690e+02,\n",
              "        6.1200e+00]])"
            ]
          },
          "metadata": {},
          "execution_count": 24
        }
      ]
    },
    {
      "cell_type": "markdown",
      "source": [
        "## Steps in modelling with TensorFlow\n",
        "\n",
        "1. **Creating a model** - define the input and output layers, as well as the hidden layers of a deep learning model.\n",
        "2. Compiling a model - define the loss function (in other words, the function which tells our model how wrong it is) and the optimizer (tells our model how to improve the patterns its learning) and evaluation metrics (what we can use to interpret the performance of our model).\n",
        "3. Fitting a model - letting the model try to find patterns between X & y (features and labels)."
      ],
      "metadata": {
        "id": "tTm53R3NAMk0"
      }
    },
    {
      "cell_type": "markdown",
      "source": [
        "## 2. Try building a neural network with 4 Dense layers and fitting it to your own regression dataset, how does it perform? && 3. Try and improve the results we got on the insurance dataset"
      ],
      "metadata": {
        "id": "qpBZLr9TR5GT"
      }
    },
    {
      "cell_type": "code",
      "source": [
        "# Build a neural network (sort of like model_2 above)\n",
        "tf.random.set_seed(42)\n",
        "\n",
        "# 1. Create a model\n",
        "housing_model = tf.keras.Sequential([\n",
        "    tf.keras.layers.Dense(100),\n",
        "    tf.keras.layers.Dense(100),\n",
        "    tf.keras.layers.Dense(1)\n",
        "])\n",
        "\n",
        "# 2. Compule the model\n",
        "housing_model.compile(loss=tf.keras.losses.mae,\n",
        "                        optimizer=tf.keras.optimizers.Adam(),\n",
        "                        metrics=[\"mae\"])\n",
        "\n",
        "# 3. Fit the model\n",
        "history = housing_model.fit(X_train, y_train, epochs=100)"
      ],
      "metadata": {
        "colab": {
          "base_uri": "https://localhost:8080/"
        },
        "id": "I8ihXmOTBMn9",
        "outputId": "4a3fcd09-b033-4dc9-c233-bd327709a8e3"
      },
      "execution_count": null,
      "outputs": [
        {
          "output_type": "stream",
          "name": "stdout",
          "text": [
            "Epoch 1/100\n",
            "13/13 [==============================] - 1s 3ms/step - loss: 53.1389 - mae: 53.1389\n",
            "Epoch 2/100\n",
            "13/13 [==============================] - 0s 2ms/step - loss: 26.1878 - mae: 26.1878\n",
            "Epoch 3/100\n",
            "13/13 [==============================] - 0s 2ms/step - loss: 14.2864 - mae: 14.2864\n",
            "Epoch 4/100\n",
            "13/13 [==============================] - 0s 3ms/step - loss: 8.4310 - mae: 8.4310\n",
            "Epoch 5/100\n",
            "13/13 [==============================] - 0s 2ms/step - loss: 6.6288 - mae: 6.6288\n",
            "Epoch 6/100\n",
            "13/13 [==============================] - 0s 2ms/step - loss: 6.7589 - mae: 6.7589\n",
            "Epoch 7/100\n",
            "13/13 [==============================] - 0s 2ms/step - loss: 6.8153 - mae: 6.8153\n",
            "Epoch 8/100\n",
            "13/13 [==============================] - 0s 3ms/step - loss: 6.1075 - mae: 6.1075\n",
            "Epoch 9/100\n",
            "13/13 [==============================] - 0s 2ms/step - loss: 6.1520 - mae: 6.1520\n",
            "Epoch 10/100\n",
            "13/13 [==============================] - 0s 2ms/step - loss: 6.1545 - mae: 6.1545\n",
            "Epoch 11/100\n",
            "13/13 [==============================] - 0s 2ms/step - loss: 8.3497 - mae: 8.3497\n",
            "Epoch 12/100\n",
            "13/13 [==============================] - 0s 2ms/step - loss: 7.6113 - mae: 7.6113\n",
            "Epoch 13/100\n",
            "13/13 [==============================] - 0s 2ms/step - loss: 8.6716 - mae: 8.6716\n",
            "Epoch 14/100\n",
            "13/13 [==============================] - 0s 2ms/step - loss: 8.7829 - mae: 8.7829\n",
            "Epoch 15/100\n",
            "13/13 [==============================] - 0s 2ms/step - loss: 6.6297 - mae: 6.6297\n",
            "Epoch 16/100\n",
            "13/13 [==============================] - 0s 3ms/step - loss: 6.5065 - mae: 6.5065\n",
            "Epoch 17/100\n",
            "13/13 [==============================] - 0s 3ms/step - loss: 6.0428 - mae: 6.0428\n",
            "Epoch 18/100\n",
            "13/13 [==============================] - 0s 2ms/step - loss: 8.8255 - mae: 8.8255\n",
            "Epoch 19/100\n",
            "13/13 [==============================] - 0s 2ms/step - loss: 6.3045 - mae: 6.3045\n",
            "Epoch 20/100\n",
            "13/13 [==============================] - 0s 3ms/step - loss: 6.9831 - mae: 6.9831\n",
            "Epoch 21/100\n",
            "13/13 [==============================] - 0s 2ms/step - loss: 6.9982 - mae: 6.9982\n",
            "Epoch 22/100\n",
            "13/13 [==============================] - 0s 2ms/step - loss: 6.8350 - mae: 6.8350\n",
            "Epoch 23/100\n",
            "13/13 [==============================] - 0s 2ms/step - loss: 6.3511 - mae: 6.3511\n",
            "Epoch 24/100\n",
            "13/13 [==============================] - 0s 2ms/step - loss: 6.9051 - mae: 6.9051\n",
            "Epoch 25/100\n",
            "13/13 [==============================] - 0s 2ms/step - loss: 6.0030 - mae: 6.0030\n",
            "Epoch 26/100\n",
            "13/13 [==============================] - 0s 3ms/step - loss: 5.8424 - mae: 5.8424\n",
            "Epoch 27/100\n",
            "13/13 [==============================] - 0s 2ms/step - loss: 6.0164 - mae: 6.0164\n",
            "Epoch 28/100\n",
            "13/13 [==============================] - 0s 3ms/step - loss: 5.8476 - mae: 5.8476\n",
            "Epoch 29/100\n",
            "13/13 [==============================] - 0s 2ms/step - loss: 7.6031 - mae: 7.6031\n",
            "Epoch 30/100\n",
            "13/13 [==============================] - 0s 2ms/step - loss: 9.4862 - mae: 9.4862\n",
            "Epoch 31/100\n",
            "13/13 [==============================] - 0s 2ms/step - loss: 7.8252 - mae: 7.8252\n",
            "Epoch 32/100\n",
            "13/13 [==============================] - 0s 3ms/step - loss: 5.7770 - mae: 5.7770\n",
            "Epoch 33/100\n",
            "13/13 [==============================] - 0s 2ms/step - loss: 6.8024 - mae: 6.8024\n",
            "Epoch 34/100\n",
            "13/13 [==============================] - 0s 2ms/step - loss: 5.7817 - mae: 5.7817\n",
            "Epoch 35/100\n",
            "13/13 [==============================] - 0s 2ms/step - loss: 6.1590 - mae: 6.1590\n",
            "Epoch 36/100\n",
            "13/13 [==============================] - 0s 2ms/step - loss: 6.7826 - mae: 6.7826\n",
            "Epoch 37/100\n",
            "13/13 [==============================] - 0s 2ms/step - loss: 5.6027 - mae: 5.6027\n",
            "Epoch 38/100\n",
            "13/13 [==============================] - 0s 2ms/step - loss: 6.6245 - mae: 6.6245\n",
            "Epoch 39/100\n",
            "13/13 [==============================] - 0s 2ms/step - loss: 6.4236 - mae: 6.4236\n",
            "Epoch 40/100\n",
            "13/13 [==============================] - 0s 2ms/step - loss: 5.4254 - mae: 5.4254\n",
            "Epoch 41/100\n",
            "13/13 [==============================] - 0s 2ms/step - loss: 5.0510 - mae: 5.0510\n",
            "Epoch 42/100\n",
            "13/13 [==============================] - 0s 3ms/step - loss: 5.5093 - mae: 5.5093\n",
            "Epoch 43/100\n",
            "13/13 [==============================] - 0s 2ms/step - loss: 5.4258 - mae: 5.4258\n",
            "Epoch 44/100\n",
            "13/13 [==============================] - 0s 3ms/step - loss: 6.7056 - mae: 6.7056\n",
            "Epoch 45/100\n",
            "13/13 [==============================] - 0s 3ms/step - loss: 5.0836 - mae: 5.0836\n",
            "Epoch 46/100\n",
            "13/13 [==============================] - 0s 4ms/step - loss: 5.0828 - mae: 5.0828\n",
            "Epoch 47/100\n",
            "13/13 [==============================] - 0s 4ms/step - loss: 5.1900 - mae: 5.1900\n",
            "Epoch 48/100\n",
            "13/13 [==============================] - 0s 3ms/step - loss: 8.3656 - mae: 8.3656\n",
            "Epoch 49/100\n",
            "13/13 [==============================] - 0s 3ms/step - loss: 7.6932 - mae: 7.6932\n",
            "Epoch 50/100\n",
            "13/13 [==============================] - 0s 3ms/step - loss: 6.4084 - mae: 6.4084\n",
            "Epoch 51/100\n",
            "13/13 [==============================] - 0s 3ms/step - loss: 5.1574 - mae: 5.1574\n",
            "Epoch 52/100\n",
            "13/13 [==============================] - 0s 3ms/step - loss: 6.2224 - mae: 6.2224\n",
            "Epoch 53/100\n",
            "13/13 [==============================] - 0s 4ms/step - loss: 5.6342 - mae: 5.6342\n",
            "Epoch 54/100\n",
            "13/13 [==============================] - 0s 3ms/step - loss: 5.5245 - mae: 5.5245\n",
            "Epoch 55/100\n",
            "13/13 [==============================] - 0s 3ms/step - loss: 4.8253 - mae: 4.8253\n",
            "Epoch 56/100\n",
            "13/13 [==============================] - 0s 3ms/step - loss: 6.1274 - mae: 6.1274\n",
            "Epoch 57/100\n",
            "13/13 [==============================] - 0s 4ms/step - loss: 6.0410 - mae: 6.0410\n",
            "Epoch 58/100\n",
            "13/13 [==============================] - 0s 3ms/step - loss: 6.6241 - mae: 6.6241\n",
            "Epoch 59/100\n",
            "13/13 [==============================] - 0s 4ms/step - loss: 5.9755 - mae: 5.9755\n",
            "Epoch 60/100\n",
            "13/13 [==============================] - 0s 3ms/step - loss: 5.5570 - mae: 5.5570\n",
            "Epoch 61/100\n",
            "13/13 [==============================] - 0s 3ms/step - loss: 4.7881 - mae: 4.7881\n",
            "Epoch 62/100\n",
            "13/13 [==============================] - 0s 3ms/step - loss: 5.7315 - mae: 5.7315\n",
            "Epoch 63/100\n",
            "13/13 [==============================] - 0s 4ms/step - loss: 6.1885 - mae: 6.1885\n",
            "Epoch 64/100\n",
            "13/13 [==============================] - 0s 5ms/step - loss: 7.2520 - mae: 7.2520\n",
            "Epoch 65/100\n",
            "13/13 [==============================] - 0s 4ms/step - loss: 5.3994 - mae: 5.3994\n",
            "Epoch 66/100\n",
            "13/13 [==============================] - 0s 3ms/step - loss: 5.7155 - mae: 5.7155\n",
            "Epoch 67/100\n",
            "13/13 [==============================] - 0s 3ms/step - loss: 5.4531 - mae: 5.4531\n",
            "Epoch 68/100\n",
            "13/13 [==============================] - 0s 3ms/step - loss: 5.1559 - mae: 5.1559\n",
            "Epoch 69/100\n",
            "13/13 [==============================] - 0s 3ms/step - loss: 6.1920 - mae: 6.1920\n",
            "Epoch 70/100\n",
            "13/13 [==============================] - 0s 3ms/step - loss: 5.9984 - mae: 5.9984\n",
            "Epoch 71/100\n",
            "13/13 [==============================] - 0s 3ms/step - loss: 6.4619 - mae: 6.4619\n",
            "Epoch 72/100\n",
            "13/13 [==============================] - 0s 3ms/step - loss: 7.9900 - mae: 7.9900\n",
            "Epoch 73/100\n",
            "13/13 [==============================] - 0s 3ms/step - loss: 8.5543 - mae: 8.5543\n",
            "Epoch 74/100\n",
            "13/13 [==============================] - 0s 3ms/step - loss: 5.9630 - mae: 5.9630\n",
            "Epoch 75/100\n",
            "13/13 [==============================] - 0s 3ms/step - loss: 5.0917 - mae: 5.0917\n",
            "Epoch 76/100\n",
            "13/13 [==============================] - 0s 3ms/step - loss: 5.0151 - mae: 5.0151\n",
            "Epoch 77/100\n",
            "13/13 [==============================] - 0s 3ms/step - loss: 4.7872 - mae: 4.7872\n",
            "Epoch 78/100\n",
            "13/13 [==============================] - 0s 3ms/step - loss: 4.4340 - mae: 4.4340\n",
            "Epoch 79/100\n",
            "13/13 [==============================] - 0s 4ms/step - loss: 5.6797 - mae: 5.6797\n",
            "Epoch 80/100\n",
            "13/13 [==============================] - 0s 5ms/step - loss: 5.0231 - mae: 5.0231\n",
            "Epoch 81/100\n",
            "13/13 [==============================] - 0s 3ms/step - loss: 5.7354 - mae: 5.7354\n",
            "Epoch 82/100\n",
            "13/13 [==============================] - 0s 3ms/step - loss: 6.9903 - mae: 6.9903\n",
            "Epoch 83/100\n",
            "13/13 [==============================] - 0s 3ms/step - loss: 6.5483 - mae: 6.5483\n",
            "Epoch 84/100\n",
            "13/13 [==============================] - 0s 3ms/step - loss: 5.8101 - mae: 5.8101\n",
            "Epoch 85/100\n",
            "13/13 [==============================] - 0s 3ms/step - loss: 4.8365 - mae: 4.8365\n",
            "Epoch 86/100\n",
            "13/13 [==============================] - 0s 4ms/step - loss: 5.2933 - mae: 5.2933\n",
            "Epoch 87/100\n",
            "13/13 [==============================] - 0s 4ms/step - loss: 5.3287 - mae: 5.3287\n",
            "Epoch 88/100\n",
            "13/13 [==============================] - 0s 3ms/step - loss: 7.1262 - mae: 7.1262\n",
            "Epoch 89/100\n",
            "13/13 [==============================] - 0s 3ms/step - loss: 6.8216 - mae: 6.8216\n",
            "Epoch 90/100\n",
            "13/13 [==============================] - 0s 3ms/step - loss: 7.0696 - mae: 7.0696\n",
            "Epoch 91/100\n",
            "13/13 [==============================] - 0s 3ms/step - loss: 6.3330 - mae: 6.3330\n",
            "Epoch 92/100\n",
            "13/13 [==============================] - 0s 3ms/step - loss: 5.8407 - mae: 5.8407\n",
            "Epoch 93/100\n",
            "13/13 [==============================] - 0s 3ms/step - loss: 5.8062 - mae: 5.8062\n",
            "Epoch 94/100\n",
            "13/13 [==============================] - 0s 4ms/step - loss: 5.0864 - mae: 5.0864\n",
            "Epoch 95/100\n",
            "13/13 [==============================] - 0s 4ms/step - loss: 5.4520 - mae: 5.4520\n",
            "Epoch 96/100\n",
            "13/13 [==============================] - 0s 3ms/step - loss: 4.3851 - mae: 4.3851\n",
            "Epoch 97/100\n",
            "13/13 [==============================] - 0s 4ms/step - loss: 5.6502 - mae: 5.6502\n",
            "Epoch 98/100\n",
            "13/13 [==============================] - 0s 3ms/step - loss: 5.0579 - mae: 5.0579\n",
            "Epoch 99/100\n",
            "13/13 [==============================] - 0s 3ms/step - loss: 5.1407 - mae: 5.1407\n",
            "Epoch 100/100\n",
            "13/13 [==============================] - 0s 4ms/step - loss: 4.7415 - mae: 4.7415\n"
          ]
        }
      ]
    },
    {
      "cell_type": "code",
      "source": [
        "# Check the results of the insurance model on the test data\n",
        "housing_model.evaluate(X_test, y_test)"
      ],
      "metadata": {
        "colab": {
          "base_uri": "https://localhost:8080/"
        },
        "id": "1l7jAQZdFy7D",
        "outputId": "69543d5a-78dc-4f47-a166-449779b573c9"
      },
      "execution_count": null,
      "outputs": [
        {
          "output_type": "stream",
          "name": "stdout",
          "text": [
            "4/4 [==============================] - 0s 6ms/step - loss: 6.0345 - mae: 6.0345\n"
          ]
        },
        {
          "output_type": "execute_result",
          "data": {
            "text/plain": [
              "[6.034484386444092, 6.034484386444092]"
            ]
          },
          "metadata": {},
          "execution_count": 32
        }
      ]
    },
    {
      "cell_type": "code",
      "source": [
        "# Plot history (also known as a loss curve or a training curve)\n",
        "pd.DataFrame(history.history).plot()\n",
        "plt.ylabel(\"loss\")\n",
        "plt.xlabel(\"epochs\")"
      ],
      "metadata": {
        "colab": {
          "base_uri": "https://localhost:8080/",
          "height": 467
        },
        "id": "md_crYfNFy-N",
        "outputId": "2d432b2d-66d6-4aab-88a0-62cd6cde9cfb"
      },
      "execution_count": null,
      "outputs": [
        {
          "output_type": "execute_result",
          "data": {
            "text/plain": [
              "Text(0.5, 0, 'epochs')"
            ]
          },
          "metadata": {},
          "execution_count": 33
        },
        {
          "output_type": "display_data",
          "data": {
            "text/plain": [
              "<Figure size 640x480 with 1 Axes>"
            ],
            "image/png": "[encoded data removed]"
          },
          "metadata": {}
        }
      ]
    }
  ]
}