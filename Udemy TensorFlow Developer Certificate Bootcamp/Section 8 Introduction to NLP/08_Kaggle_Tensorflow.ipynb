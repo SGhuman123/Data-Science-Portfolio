{
  "nbformat": 4,
  "nbformat_minor": 0,
  "metadata": {
    "colab": {
      "provenance": [],
      "gpuType": "T4",
      "machine_shape": "hm",
      "authorship_tag": "ABX9TyOKUbXhb79CyYwrQxIhSKYj",
      "include_colab_link": true
    },
    "kernelspec": {
      "name": "python3",
      "display_name": "Python 3"
    },
    "language_info": {
      "name": "python"
    },
    "accelerator": "GPU"
  },
  "cells": [
    {
      "cell_type": "markdown",
      "metadata": {
        "id": "view-in-github",
        "colab_type": "text"
      },
      "source": [
        "<a href=\"https://colab.research.google.com/github/SGhuman123/Data-Science-Portfolio/blob/main/Udemy%20TensorFlow%20Developer%20Certificate%20Bootcamp/Section%208%20Introduction%20to%20NLP/08_Kaggle_Tensorflow.ipynb\" target=\"_parent\"><img src=\"https://colab.research.google.com/assets/colab-badge.svg\" alt=\"Open In Colab\"/></a>"
      ]
    },
    {
      "cell_type": "markdown",
      "source": [
        "## Check for GPU"
      ],
      "metadata": {
        "id": "FsmEhGZhbDGF"
      }
    },
    {
      "cell_type": "code",
      "source": [
        "!nvidia-smi -L"
      ],
      "metadata": {
        "colab": {
          "base_uri": "https://localhost:8080/"
        },
        "id": "2nFCSHy2bLZ5",
        "outputId": "d9761a47-209b-4165-9d97-49e14e2713e5"
      },
      "execution_count": null,
      "outputs": [
        {
          "output_type": "stream",
          "name": "stdout",
          "text": [
            "GPU 0: Tesla T4 (UUID: GPU-12f40f04-bbc9-1ec9-4eb3-d94065fede50)\n"
          ]
        }
      ]
    },
    {
      "cell_type": "markdown",
      "source": [
        "## Get helper functions"
      ],
      "metadata": {
        "id": "nj3g2477bLfh"
      }
    },
    {
      "cell_type": "code",
      "source": [
        "# Download helper functions script\n",
        "!wget https://raw.githubusercontent.com/mrdbourke/tensorflow-deep-learning/main/extras/helper_functions.py"
      ],
      "metadata": {
        "colab": {
          "base_uri": "https://localhost:8080/"
        },
        "id": "PyMqLj9hbLlB",
        "outputId": "c2695fa5-c720-4a39-d29e-95b72afa84d9"
      },
      "execution_count": null,
      "outputs": [
        {
          "output_type": "stream",
          "name": "stdout",
          "text": [
            "--2024-01-20 23:29:52--  https://raw.githubusercontent.com/mrdbourke/tensorflow-deep-learning/main/extras/helper_functions.py\n",
            "Resolving raw.githubusercontent.com (raw.githubusercontent.com)... 185.199.108.133, 185.199.109.133, 185.199.110.133, ...\n",
            "Connecting to raw.githubusercontent.com (raw.githubusercontent.com)|185.199.108.133|:443... connected.\n",
            "HTTP request sent, awaiting response... 200 OK\n",
            "Length: 10246 (10K) [text/plain]\n",
            "Saving to: ‘helper_functions.py’\n",
            "\n",
            "helper_functions.py 100%[===================>]  10.01K  --.-KB/s    in 0.001s  \n",
            "\n",
            "2024-01-20 23:29:52 (13.2 MB/s) - ‘helper_functions.py’ saved [10246/10246]\n",
            "\n"
          ]
        }
      ]
    },
    {
      "cell_type": "code",
      "source": [
        "# Import series of helper functios for the notebook\n",
        "from helper_functions import create_tensorboard_callback, plot_loss_curves, compare_historys, unzip_data"
      ],
      "metadata": {
        "id": "cF9oItF_bLqe"
      },
      "execution_count": null,
      "outputs": []
    },
    {
      "cell_type": "markdown",
      "source": [
        "## Get a text dataset\n",
        "\n",
        "The dataset we're going to be using is Kaggle's introduction to NLP dataset (text samples of Tweets labelled as disaster or not disaster).\n",
        "\n",
        "See the original source here: https://www.kaggle.com/competitions/nlp-getting-started"
      ],
      "metadata": {
        "id": "XcVa-0yGbLvw"
      }
    },
    {
      "cell_type": "code",
      "source": [
        "!wget https://storage.googleapis.com/ztm_tf_course/nlp_getting_started.zip\n",
        "\n",
        "# Unzip the data\n",
        "unzip_data(\"nlp_getting_started.zip\")"
      ],
      "metadata": {
        "colab": {
          "base_uri": "https://localhost:8080/"
        },
        "id": "z2gHcWUIbZ18",
        "outputId": "a1146d13-73ec-419d-a095-73647cb35144"
      },
      "execution_count": null,
      "outputs": [
        {
          "output_type": "stream",
          "name": "stdout",
          "text": [
            "--2024-01-20 23:29:59--  https://storage.googleapis.com/ztm_tf_course/nlp_getting_started.zip\n",
            "Resolving storage.googleapis.com (storage.googleapis.com)... 142.251.8.207, 173.194.174.207, 108.177.125.207, ...\n",
            "Connecting to storage.googleapis.com (storage.googleapis.com)|142.251.8.207|:443... connected.\n",
            "HTTP request sent, awaiting response... 200 OK\n",
            "Length: 607343 (593K) [application/zip]\n",
            "Saving to: ‘nlp_getting_started.zip’\n",
            "\n",
            "nlp_getting_started 100%[===================>] 593.11K   939KB/s    in 0.6s    \n",
            "\n",
            "2024-01-20 23:30:00 (939 KB/s) - ‘nlp_getting_started.zip’ saved [607343/607343]\n",
            "\n"
          ]
        }
      ]
    },
    {
      "cell_type": "markdown",
      "source": [
        "## Visualizing a text dataset\n",
        "\n",
        "To visualize our text samples, we first have to read them in, one way to do so would be to use Python: https://realpython.com/read-write-files-python/\n",
        "But I prefer to get visual straight away.\n",
        "\n",
        "So another way to do this is to use pandas..."
      ],
      "metadata": {
        "id": "yTri_V9UbZ7r"
      }
    },
    {
      "cell_type": "code",
      "source": [
        "import pandas as pd\n",
        "train_df = pd.read_csv(\"train.csv\")\n",
        "test_df = pd.read_csv(\"test.csv\")\n",
        "# train_df.head()"
      ],
      "metadata": {
        "id": "WqiSxy6RbaBn"
      },
      "execution_count": null,
      "outputs": []
    },
    {
      "cell_type": "markdown",
      "source": [
        "## Preprocessing the data"
      ],
      "metadata": {
        "id": "lufss30ekkbF"
      }
    },
    {
      "cell_type": "code",
      "source": [
        "# import re\n",
        "# # Create a function to clean text data\n",
        "# def preprocessor(text):\n",
        "\n",
        "#   # Remove all html markup from a tweet\n",
        "#   text = re.sub('<[^>]*>', '', text)\n",
        "\n",
        "#   # Remove @username from a tweet\n",
        "#   text = re.sub(r\"@[^\\s]+\",'', text)\n",
        "\n",
        "#   # Remove http links from a tweet\n",
        "#   text = re.sub('http[^\\s]+', '', text)\n",
        "\n",
        "#   # Find all emoticons and store them temporarily\n",
        "#   emoticons = re.findall('(?::|;|=)(?:-)?(?:\\)|\\(|D|P)', text)\n",
        "\n",
        "#   # Remove all non-word characters, make all words to lower case, and add back the stored emoticons\n",
        "#   text = re.sub('[\\W]+', ' ', text.lower()) + ' '.join(emoticons).replace('-', '')\n",
        "#   return text"
      ],
      "metadata": {
        "id": "W9fgHErokkl4"
      },
      "execution_count": null,
      "outputs": []
    },
    {
      "cell_type": "code",
      "source": [
        "# train_df[\"text\"] = train_df[\"text\"].apply(preprocessor)\n",
        "# test_df[\"text\"] = test_df[\"text\"].apply(preprocessor)\n",
        "# train_df.head()"
      ],
      "metadata": {
        "id": "2Hh1apHakkv0"
      },
      "execution_count": null,
      "outputs": []
    },
    {
      "cell_type": "markdown",
      "source": [
        "### Split data into training and validation sets"
      ],
      "metadata": {
        "id": "MberVNSBbaUu"
      }
    },
    {
      "cell_type": "code",
      "source": [
        "# Shuffle training dataframe\n",
        "train_df_shuffled = train_df.sample(frac=1, random_state=42)\n",
        "# train_df_shuffled.head()"
      ],
      "metadata": {
        "id": "7yGYZnQdbaIP"
      },
      "execution_count": null,
      "outputs": []
    },
    {
      "cell_type": "code",
      "source": [
        "from sklearn.model_selection import train_test_split"
      ],
      "metadata": {
        "id": "6pPwE78vbabA"
      },
      "execution_count": null,
      "outputs": []
    },
    {
      "cell_type": "code",
      "source": [
        "# Use train_test_split to split training data into training and validation sets\n",
        "train_sentences, val_sentences, train_labels, val_labels = train_test_split(train_df_shuffled[\"text\"].to_numpy(),\n",
        "                                                                            train_df_shuffled[\"target\"].to_numpy(),\n",
        "                                                                            test_size=0.1,  # use 10% of training data for validation split\n",
        "                                                                            random_state=42)"
      ],
      "metadata": {
        "id": "Nf9ueONkbL16"
      },
      "execution_count": null,
      "outputs": []
    },
    {
      "cell_type": "code",
      "source": [
        "# What does the test dataframe look like?\n",
        "# test_df.head()"
      ],
      "metadata": {
        "id": "9hdhcA1hbaNC"
      },
      "execution_count": null,
      "outputs": []
    },
    {
      "cell_type": "markdown",
      "source": [
        "## Converting text into numbers\n",
        "\n",
        "When dealing with a text problem, one of the first things you'll have to do before you can build a model is to convert your text to numbers.\n",
        "\n",
        "There are a few ways to do this, namely:\n",
        "* Tokenization - direct mapping of token (a token could be a word or a character) to number\n",
        "* Embedding - create a matrix of feature vector for each token (the size of the feature vector can be defined and this embedding can be learned)"
      ],
      "metadata": {
        "id": "bd4RFB9HdJl0"
      }
    },
    {
      "cell_type": "markdown",
      "source": [
        "### Text vectorization (tokenization)"
      ],
      "metadata": {
        "id": "v37JJ3kVdJrs"
      }
    },
    {
      "cell_type": "code",
      "source": [
        "import tensorflow as tf\n",
        "from tensorflow.keras.layers.experimental.preprocessing import TextVectorization\n",
        "\n",
        "# Use the default TextVctorization parameters\n",
        "text_vectorizer = TextVectorization(max_tokens=10000, # How many words in the vocabulary (automatically add <OOV>)\n",
        "                                    standardize=\"lower_and_strip_punctuation\",\n",
        "                                    split=\"whitespace\",\n",
        "                                    ngrams=None, # create groups of n-words\n",
        "                                    output_mode=\"int\", # how to map tokens to numbers\n",
        "                                    output_sequence_length=None, # how long do you want your sequences to be?\n",
        "                                    pad_to_max_tokens=True)"
      ],
      "metadata": {
        "id": "hwEUYNCHdJxS"
      },
      "execution_count": null,
      "outputs": []
    },
    {
      "cell_type": "code",
      "source": [
        "# Find the average number of tokens (words) in the training tweets\n",
        "round(sum([len(i.split(\" \")) for i in train_sentences]) / len(train_sentences))"
      ],
      "metadata": {
        "colab": {
          "base_uri": "https://localhost:8080/"
        },
        "id": "RqPpTYzodJ3P",
        "outputId": "b909e98f-f387-47c4-9950-9c3f7e8e2c5d"
      },
      "execution_count": null,
      "outputs": [
        {
          "output_type": "execute_result",
          "data": {
            "text/plain": [
              "15"
            ]
          },
          "metadata": {},
          "execution_count": 13
        }
      ]
    },
    {
      "cell_type": "code",
      "source": [
        "max([len(i.split(\" \")) for i in train_sentences] )"
      ],
      "metadata": {
        "colab": {
          "base_uri": "https://localhost:8080/"
        },
        "id": "mllqCAXL8fLh",
        "outputId": "20989ee0-7dfd-4d16-fed4-72c29185c87e"
      },
      "execution_count": null,
      "outputs": [
        {
          "output_type": "execute_result",
          "data": {
            "text/plain": [
              "31"
            ]
          },
          "metadata": {},
          "execution_count": 14
        }
      ]
    },
    {
      "cell_type": "code",
      "source": [
        "from collections import Counter\n",
        "\n",
        "# Count the frequency of each number of tokens in the training tweets\n",
        "token_counts = Counter([len(sentence.split(\" \")) for sentence in train_sentences])\n",
        "\n",
        "# Find the most common number of tokens\n",
        "most_common_tokens, count = token_counts.most_common(1)[0]\n",
        "\n",
        "print(f\"Most frequent number of tokens: {most_common_tokens}, Occurs {count} times\")"
      ],
      "metadata": {
        "colab": {
          "base_uri": "https://localhost:8080/"
        },
        "id": "fvcNGRgU9kVM",
        "outputId": "67697aa2-3b60-4a2d-dc32-4136cb55c2cd"
      },
      "execution_count": null,
      "outputs": [
        {
          "output_type": "stream",
          "name": "stdout",
          "text": [
            "Most frequent number of tokens: 17, Occurs 449 times\n"
          ]
        }
      ]
    },
    {
      "cell_type": "code",
      "source": [
        "# Setup text vectorization variables\n",
        "max_vocab_length = 10000 # max number of words to have in our vocabulary\n",
        "max_length = 31 # max length our sequences will be (e.g. how mant words from a Tweet does a model see?)\n",
        "\n",
        "text_vectorizer = TextVectorization(max_tokens=max_vocab_length,\n",
        "                                    output_mode=\"int\",\n",
        "                                    output_sequence_length=max_length)"
      ],
      "metadata": {
        "id": "Lrc6aUJTdJ-D"
      },
      "execution_count": null,
      "outputs": []
    },
    {
      "cell_type": "code",
      "source": [
        "# Fit the text vectorizer to the training text\n",
        "text_vectorizer.adapt(train_sentences)"
      ],
      "metadata": {
        "id": "Uxth37RkdKEv"
      },
      "execution_count": null,
      "outputs": []
    },
    {
      "cell_type": "code",
      "source": [
        "# Create a sample sentence and tokenize it\n",
        "sample_sentence = \"There's a flood in my street!\"\n",
        "text_vectorizer(sample_sentence)"
      ],
      "metadata": {
        "colab": {
          "base_uri": "https://localhost:8080/"
        },
        "id": "ibVof9ncg-_P",
        "outputId": "7d6e8e0d-8fd4-4379-cc1a-5dd8f417ec46"
      },
      "execution_count": null,
      "outputs": [
        {
          "output_type": "execute_result",
          "data": {
            "text/plain": [
              "<tf.Tensor: shape=(31,), dtype=int64, numpy=\n",
              "array([264,   3, 232,   4,  13, 698,   0,   0,   0,   0,   0,   0,   0,\n",
              "         0,   0,   0,   0,   0,   0,   0,   0,   0,   0,   0,   0,   0,\n",
              "         0,   0,   0,   0,   0])>"
            ]
          },
          "metadata": {},
          "execution_count": 18
        }
      ]
    },
    {
      "cell_type": "code",
      "source": [
        "# # Choose a random sentence from the training dataset and tokenize it\n",
        "# random_sentence = random.choice(train_sentences)\n",
        "# print(f\"Original text:\\n {random_sentence}\\\n",
        "#         \\n\\nVectorized text:\\n {text_vectorizer(random_sentence)}\")"
      ],
      "metadata": {
        "id": "klzse3zddKMH"
      },
      "execution_count": null,
      "outputs": []
    },
    {
      "cell_type": "code",
      "source": [
        "# # Get the unique words in the vocabulary\n",
        "# words_in_vocab = text_vectorizer.get_vocabulary() # get all of the unique words in our training data\n",
        "# top_5_words = words_in_vocab[:5] # get the most common words\n",
        "# bottom_5_words = words_in_vocab[-5:] # get the least common words\n",
        "# print(f\"Number of words in vocab: {len(words_in_vocab)}\")\n",
        "# print(f\"5 most common words: {top_5_words}\")\n",
        "# print(f\"5 least common words: {bottom_5_words}\")"
      ],
      "metadata": {
        "id": "AdBWZ32BdKSj"
      },
      "execution_count": null,
      "outputs": []
    },
    {
      "cell_type": "code",
      "source": [
        "# train_sentences"
      ],
      "metadata": {
        "id": "FfxiTfFNdKak"
      },
      "execution_count": null,
      "outputs": []
    },
    {
      "cell_type": "markdown",
      "source": [
        "### Creating an Embedding using an Embedding Layer\n",
        "\n",
        "To make our embedding, we're going to use TensorFlow's embedding layer: https://www.tensorflow.org/api_docs/python/tf/keras/layers/Embedding\n",
        "\n",
        "The parameters we care most about for our embedding layer:\n",
        "* `input_dim` = the size of our vocabulary\n",
        "* `output_dim` = the size of the output embedding vector, for example, a value of 100 would mean each token gets represented by a vector 100 long\n",
        "* `input_length` = length of the sequences being passed to the embedding layer"
      ],
      "metadata": {
        "id": "48g3fxSkdKhl"
      }
    },
    {
      "cell_type": "code",
      "source": [
        "from tensorflow.keras import layers\n",
        "\n",
        "embedding = layers.Embedding(input_dim=max_vocab_length, # set input shape\n",
        "                             output_dim=128,\n",
        "                             embeddings_initializer=\"uniform\",\n",
        "                            #  input_length=max_vocab_length # how long is each input\n",
        "                             input_length=max_length # how long is each input\n",
        "                             )\n",
        "\n",
        "embedding"
      ],
      "metadata": {
        "colab": {
          "base_uri": "https://localhost:8080/"
        },
        "id": "GgzV4HLsdKoR",
        "outputId": "a492338c-0513-46f8-ef4b-c7a9f6c4799a"
      },
      "execution_count": null,
      "outputs": [
        {
          "output_type": "execute_result",
          "data": {
            "text/plain": [
              "<keras.src.layers.core.embedding.Embedding at 0x7bfcbc087b50>"
            ]
          },
          "metadata": {},
          "execution_count": 22
        }
      ]
    },
    {
      "cell_type": "code",
      "source": [
        "# # Get a random sentence from the training set\n",
        "# random_sentence = random.choice(train_sentences)\n",
        "# print(f\"Original text:\\n {random_sentence}\\n\\nEmbedded version:\")\n",
        "\n",
        "# # Embed the random sentence (turn it into dense vectors of fixed size)\n",
        "# sample_embed = embedding(text_vectorizer([random_sentence]))\n",
        "# sample_embed"
      ],
      "metadata": {
        "id": "UtlP__0PdKvK"
      },
      "execution_count": null,
      "outputs": []
    },
    {
      "cell_type": "code",
      "source": [
        "# # Check out a single token's embedding\n",
        "# sample_embed[0][0], sample_embed[0][0].shape, random_sentence"
      ],
      "metadata": {
        "id": "xWy882ngdK3y"
      },
      "execution_count": null,
      "outputs": []
    },
    {
      "cell_type": "markdown",
      "source": [
        "### Creating an evaluation function for our model experiments\n",
        "\n",
        "We could evaluate all of our model's predictions with different metrics every time, however, this will be cumbersome and could easily be fixed with a function.\n",
        "\n",
        "Let's create one to compare our model's predictions with the truth labels using the following metrics:\n",
        "* Accuracy\n",
        "* Precision\n",
        "* Recall\n",
        "* F1-score\n",
        "\n",
        "For a deep overview of many different evaluation methods, see the Sklearn documentation: https://scikit-learn.org/stable/modules/model_evaluation.html"
      ],
      "metadata": {
        "id": "XghLox7AdK-H"
      }
    },
    {
      "cell_type": "code",
      "source": [
        "# Function to evaluate: accuracy, precision, recall, f1-score\n",
        "from sklearn.metrics import accuracy_score, precision_score, precision_recall_fscore_support\n",
        "\n",
        "def calculate_results(y_true, y_pred):\n",
        "  \"\"\"\n",
        "  Calculate model accuracy, precision, recall and f1 score of a binary classification model.\n",
        "  \"\"\"\n",
        "  # Calculate model accuracy\n",
        "  model_accuracy = accuracy_score(y_true, y_pred) * 100\n",
        "  # Calculate model precision, recall and f1 score using \"weighted\" average\n",
        "  model_precision, model_recall, model_f1, _ = precision_recall_fscore_support(y_true, y_pred, average=\"weighted\")\n",
        "  model_results = {\"accuracy\": model_accuracy,\n",
        "                  \"precision\": model_precision,\n",
        "                  \"recall\": model_recall,\n",
        "                  \"f1\": model_f1}\n",
        "  return model_results"
      ],
      "metadata": {
        "id": "3oHW-fFtd00w"
      },
      "execution_count": null,
      "outputs": []
    },
    {
      "cell_type": "markdown",
      "source": [
        "## 2. Create 10% of the training data. How does perform compared to the Universal Sentence Encoder model with 10% of the training data?"
      ],
      "metadata": {
        "id": "REYpZHUad08F"
      }
    },
    {
      "cell_type": "code",
      "source": [
        "# Making a better dataset split (no data leakage)\n",
        "train_10_percent_split = int(0.1 * len(train_sentences))\n",
        "train_sentences_10_percent = train_sentences[:train_10_percent_split]\n",
        "train_labels_10_percent = train_labels[:train_10_percent_split]\n",
        "# len(train_labels_10_percent)"
      ],
      "metadata": {
        "id": "rrWKjlfDd1C-"
      },
      "execution_count": null,
      "outputs": []
    },
    {
      "cell_type": "code",
      "source": [
        "import numpy as np\n",
        "\n",
        "# Check the number of each label in the updated training data subset\n",
        "pd.Series(np.array(train_labels_10_percent)).value_counts()"
      ],
      "metadata": {
        "colab": {
          "base_uri": "https://localhost:8080/"
        },
        "id": "d3WrTxyxd1K0",
        "outputId": "f7919ac7-633c-4aaa-81b7-0cc499983c69"
      },
      "execution_count": null,
      "outputs": [
        {
          "output_type": "execute_result",
          "data": {
            "text/plain": [
              "0    406\n",
              "1    279\n",
              "dtype: int64"
            ]
          },
          "metadata": {},
          "execution_count": 27
        }
      ]
    },
    {
      "cell_type": "code",
      "source": [
        "# len(train_df_shuffled)"
      ],
      "metadata": {
        "id": "ySanBHx0d1Ss"
      },
      "execution_count": null,
      "outputs": []
    },
    {
      "cell_type": "code",
      "source": [
        "# Check the number of targets in our subset of data\n",
        "train_df_shuffled[\"target\"].value_counts()"
      ],
      "metadata": {
        "colab": {
          "base_uri": "https://localhost:8080/"
        },
        "id": "JtawwIKFd1Zp",
        "outputId": "81697aa8-dfba-4cd5-fe50-21204c88d678"
      },
      "execution_count": null,
      "outputs": [
        {
          "output_type": "execute_result",
          "data": {
            "text/plain": [
              "0    4342\n",
              "1    3271\n",
              "Name: target, dtype: int64"
            ]
          },
          "metadata": {},
          "execution_count": 29
        }
      ]
    },
    {
      "cell_type": "markdown",
      "source": [
        "Now we've built a few of our own models, let's try and use transfer learning for NLP, specifically using TensorFlow Hub's Universal Sentence Encoder: https://tfhub.dev/google/universal-sentence-encoder/4\n",
        "\n",
        "See how th USE was created here: https://arxiv.org/abs/1803.11175"
      ],
      "metadata": {
        "id": "Z3FFAifceSAX"
      }
    },
    {
      "cell_type": "markdown",
      "source": [
        "## Potential ideas:\n",
        "* Try trainable = False of 100% of the data WORKS!!!\n",
        "* Change the optimizer type try: RMSprop? WORKS (very marginal)!!!\n",
        "* Find the ideal learning rate? Use learning rate callback? WORKS (very marginal)!!!\n",
        "* Batching - No\n",
        "* Add in LSTM or bidirectional LSTM layer - No\n",
        "* [Augment the data](https://www.youtube.com/watch?v=lpWewl7y57o)"
      ],
      "metadata": {
        "id": "zMM3_qO1fJ7w"
      }
    },
    {
      "cell_type": "markdown",
      "source": [
        "### Model USE 100%: Universal Sentence Encoder model with 100% of the training data?\n",
        "\n",
        "* Try trainable = False of 100% of the data WORKS!!!"
      ],
      "metadata": {
        "id": "mHhcMysMeSIa"
      }
    },
    {
      "cell_type": "code",
      "source": [
        "# Create a tensorboard callback (need to create a new one for each model)\n",
        "from helper_functions import create_tensorboard_callback\n",
        "\n",
        "# Create a directory to save TensorBoard logs\n",
        "SAVE_DIR = \"model_logs\""
      ],
      "metadata": {
        "id": "mR_-wmnGhUXA"
      },
      "execution_count": null,
      "outputs": []
    },
    {
      "cell_type": "code",
      "source": [
        "import tensorflow_hub as hub\n",
        "embed = hub.load(\"https://www.kaggle.com/models/google/universal-sentence-encoder/frameworks/tensorFlow2/variations/universal-sentence-encoder/versions/2\")\n",
        "embed_samples = embed([sample_sentence,\n",
        "                       \"When you can the universial sentence encoder on a sentence, it turns it into numbers.\"])\n",
        "print(embed_samples[0][:50])"
      ],
      "metadata": {
        "colab": {
          "base_uri": "https://localhost:8080/"
        },
        "id": "p2lzmtFZeSO_",
        "outputId": "5c0268f7-38a8-41a5-e9a4-05ba593c0d1a"
      },
      "execution_count": null,
      "outputs": [
        {
          "output_type": "stream",
          "name": "stdout",
          "text": [
            "tf.Tensor(\n",
            "[-0.01157028  0.0248591   0.02878048 -0.012715    0.03971538  0.0882776\n",
            "  0.02680984  0.05589836 -0.0106873  -0.00597291  0.00639323 -0.01819518\n",
            "  0.00030813  0.09105888  0.05874644 -0.03180628  0.01512474 -0.05162929\n",
            "  0.00991367 -0.06865347 -0.04209306  0.02678981  0.03011006  0.00321069\n",
            " -0.00337973 -0.04787357  0.0226672  -0.00985925 -0.04063613 -0.01292092\n",
            " -0.04666384  0.05630299 -0.03949255  0.00517686  0.02495829 -0.0701444\n",
            "  0.02871508  0.04947684 -0.00633979 -0.08960192  0.02807118 -0.00808364\n",
            " -0.01360602  0.0599865  -0.10361787 -0.05195374  0.00232954 -0.02332531\n",
            " -0.03758105  0.03327728], shape=(50,), dtype=float32)\n"
          ]
        }
      ]
    },
    {
      "cell_type": "code",
      "source": [
        "embed_samples[0].shape"
      ],
      "metadata": {
        "colab": {
          "base_uri": "https://localhost:8080/"
        },
        "id": "thBLEdl8eSVa",
        "outputId": "597e7e06-7629-4a39-8053-00e4f48258d4"
      },
      "execution_count": null,
      "outputs": [
        {
          "output_type": "execute_result",
          "data": {
            "text/plain": [
              "TensorShape([512])"
            ]
          },
          "metadata": {},
          "execution_count": 32
        }
      ]
    },
    {
      "cell_type": "code",
      "source": [
        "# Create a Keras Layer using the USE pretrained layer from tensorflow hub\n",
        "sentence_encoder_layer = hub.KerasLayer(\"https://www.kaggle.com/models/google/universal-sentence-encoder/frameworks/tensorFlow2/variations/universal-sentence-encoder/versions/2\",\n",
        "                                        input_shape=[],\n",
        "                                        dtype=tf.string,\n",
        "                                        trainable=False,\n",
        "                                        name=\"USE\")"
      ],
      "metadata": {
        "id": "26V5BJi3eSdi"
      },
      "execution_count": null,
      "outputs": []
    },
    {
      "cell_type": "code",
      "source": [
        "# Create model using the Sequential API\n",
        "model_USE_100_percent = tf.keras.Sequential([\n",
        "    sentence_encoder_layer,\n",
        "    layers.Dense(64, activation=\"relu\"),\n",
        "    layers.Dense(1, activation=\"sigmoid\", name=\"output_layer\")\n",
        "], name=\"model_USE_10_percent\")\n",
        "\n",
        "# Compile\n",
        "model_USE_100_percent.compile(loss=\"binary_crossentropy\",\n",
        "                optimizer=tf.keras.optimizers.Adam(),\n",
        "                metrics=[\"accuracy\"])\n",
        "\n",
        "model_USE_100_percent.summary()"
      ],
      "metadata": {
        "colab": {
          "base_uri": "https://localhost:8080/"
        },
        "id": "jmamN_uPeSlj",
        "outputId": "c93e64dc-cb96-425f-b950-1e02caac499c"
      },
      "execution_count": null,
      "outputs": [
        {
          "output_type": "stream",
          "name": "stdout",
          "text": [
            "Model: \"model_USE_10_percent\"\n",
            "_________________________________________________________________\n",
            " Layer (type)                Output Shape              Param #   \n",
            "=================================================================\n",
            " USE (KerasLayer)            (None, 512)               256797824 \n",
            "                                                                 \n",
            " dense (Dense)               (None, 64)                32832     \n",
            "                                                                 \n",
            " output_layer (Dense)        (None, 1)                 65        \n",
            "                                                                 \n",
            "=================================================================\n",
            "Total params: 256830721 (979.73 MB)\n",
            "Trainable params: 32897 (128.50 KB)\n",
            "Non-trainable params: 256797824 (979.61 MB)\n",
            "_________________________________________________________________\n"
          ]
        }
      ]
    },
    {
      "cell_type": "code",
      "source": [
        "# Fit the model to the 10% training data subsets\n",
        "model_USE_100_percent_history = model_USE_100_percent.fit(train_sentences,\n",
        "                              train_labels,\n",
        "                              epochs=5,\n",
        "                              validation_data=(val_sentences, val_labels),\n",
        "                              callbacks=[create_tensorboard_callback(SAVE_DIR,\n",
        "                                                                     \"tf_hub_sentence_encoder_100_percent_correct_split\")])"
      ],
      "metadata": {
        "colab": {
          "base_uri": "https://localhost:8080/"
        },
        "id": "6n2Jgj7peSsa",
        "outputId": "7c759a9f-f24a-4b7c-d2f8-08604a47b687"
      },
      "execution_count": null,
      "outputs": [
        {
          "output_type": "stream",
          "name": "stdout",
          "text": [
            "Saving TensorBoard log files to: model_logs/tf_hub_sentence_encoder_100_percent_correct_split/20240120-233152\n",
            "Epoch 1/5\n",
            "215/215 [==============================] - 6s 11ms/step - loss: 0.5033 - accuracy: 0.7901 - val_loss: 0.4475 - val_accuracy: 0.8018\n",
            "Epoch 2/5\n",
            "215/215 [==============================] - 2s 9ms/step - loss: 0.4147 - accuracy: 0.8140 - val_loss: 0.4375 - val_accuracy: 0.8084\n",
            "Epoch 3/5\n",
            "215/215 [==============================] - 2s 9ms/step - loss: 0.4006 - accuracy: 0.8222 - val_loss: 0.4358 - val_accuracy: 0.8228\n",
            "Epoch 4/5\n",
            "215/215 [==============================] - 2s 9ms/step - loss: 0.3913 - accuracy: 0.8244 - val_loss: 0.4291 - val_accuracy: 0.8110\n",
            "Epoch 5/5\n",
            "215/215 [==============================] - 2s 9ms/step - loss: 0.3835 - accuracy: 0.8307 - val_loss: 0.4258 - val_accuracy: 0.8163\n"
          ]
        }
      ]
    },
    {
      "cell_type": "code",
      "source": [
        "# Make predictions with the model trained on 100% of the data\n",
        "model_USE_100_percent_pred_probs = model_USE_100_percent.predict(val_sentences)\n",
        "model_USE_100_percent_pred_probs[:10]"
      ],
      "metadata": {
        "colab": {
          "base_uri": "https://localhost:8080/"
        },
        "id": "aJ_DKzIDezUm",
        "outputId": "c6a7bcc4-6cbf-428c-bb89-f7ce081618f7"
      },
      "execution_count": null,
      "outputs": [
        {
          "output_type": "stream",
          "name": "stdout",
          "text": [
            "24/24 [==============================] - 1s 7ms/step\n"
          ]
        },
        {
          "output_type": "execute_result",
          "data": {
            "text/plain": [
              "array([[0.1866785 ],\n",
              "       [0.78342026],\n",
              "       [0.9883609 ],\n",
              "       [0.21520786],\n",
              "       [0.70397675],\n",
              "       [0.7347604 ],\n",
              "       [0.98208076],\n",
              "       [0.98008245],\n",
              "       [0.93781817],\n",
              "       [0.10139417]], dtype=float32)"
            ]
          },
          "metadata": {},
          "execution_count": 36
        }
      ]
    },
    {
      "cell_type": "code",
      "source": [
        "# Turn pred probs into labels\n",
        "model_USE_100_percent_preds = tf.squeeze(tf.round(model_USE_100_percent_pred_probs))\n",
        "model_USE_100_percent_preds[:10]"
      ],
      "metadata": {
        "colab": {
          "base_uri": "https://localhost:8080/"
        },
        "id": "o3WafV7hezby",
        "outputId": "ab960aa1-1b70-4641-a96b-fb7644ef8806"
      },
      "execution_count": null,
      "outputs": [
        {
          "output_type": "execute_result",
          "data": {
            "text/plain": [
              "<tf.Tensor: shape=(10,), dtype=float32, numpy=array([0., 1., 1., 0., 1., 1., 1., 1., 1., 0.], dtype=float32)>"
            ]
          },
          "metadata": {},
          "execution_count": 37
        }
      ]
    },
    {
      "cell_type": "code",
      "source": [
        "# Evaluate model_USE_10_percent predictions\n",
        "model_USE_100_percent_results = calculate_results(y_true=val_labels,\n",
        "                                    y_pred=model_USE_100_percent_preds)\n",
        "model_USE_100_percent_results"
      ],
      "metadata": {
        "colab": {
          "base_uri": "https://localhost:8080/"
        },
        "id": "hgfR2ShaeziM",
        "outputId": "9e24a763-9bb9-43ef-be69-86f8a8c12fc7"
      },
      "execution_count": null,
      "outputs": [
        {
          "output_type": "execute_result",
          "data": {
            "text/plain": [
              "{'accuracy': 81.62729658792651,\n",
              " 'precision': 0.818446310697231,\n",
              " 'recall': 0.8162729658792651,\n",
              " 'f1': 0.8148082644367335}"
            ]
          },
          "metadata": {},
          "execution_count": 38
        }
      ]
    },
    {
      "cell_type": "markdown",
      "source": [
        "### Model USE 100%: Universal Sentence Encoder model with 100% of the training data?\n",
        "\n",
        "### Change the optimizer type try: RMSprop? WORKS (very marginal)!!!!!!\n"
      ],
      "metadata": {
        "id": "7DZgIT0Nj_if"
      }
    },
    {
      "cell_type": "code",
      "source": [
        "# Create model using the Sequential API\n",
        "model_USE_RMS_100_percent = tf.keras.Sequential([\n",
        "    sentence_encoder_layer,\n",
        "    layers.Dense(64, activation=\"relu\"),\n",
        "    layers.Dense(1, activation=\"sigmoid\", name=\"output_layer\")\n",
        "], name=\"model_USE_RMS_100_percent\")\n",
        "\n",
        "# Compile\n",
        "model_USE_RMS_100_percent.compile(loss=\"binary_crossentropy\",\n",
        "                optimizer=tf.keras.optimizers.RMSprop(learning_rate=0.001),\n",
        "                metrics=[\"accuracy\"])\n",
        "\n",
        "model_USE_RMS_100_percent.summary()"
      ],
      "metadata": {
        "colab": {
          "base_uri": "https://localhost:8080/"
        },
        "id": "M8W8liRZj_oJ",
        "outputId": "9cad6c3a-3e5e-4d4b-dd77-088e8a7c925a"
      },
      "execution_count": null,
      "outputs": [
        {
          "output_type": "stream",
          "name": "stdout",
          "text": [
            "Model: \"model_USE_RMS_100_percent\"\n",
            "_________________________________________________________________\n",
            " Layer (type)                Output Shape              Param #   \n",
            "=================================================================\n",
            " USE (KerasLayer)            (None, 512)               256797824 \n",
            "                                                                 \n",
            " dense_1 (Dense)             (None, 64)                32832     \n",
            "                                                                 \n",
            " output_layer (Dense)        (None, 1)                 65        \n",
            "                                                                 \n",
            "=================================================================\n",
            "Total params: 256830721 (979.73 MB)\n",
            "Trainable params: 32897 (128.50 KB)\n",
            "Non-trainable params: 256797824 (979.61 MB)\n",
            "_________________________________________________________________\n"
          ]
        }
      ]
    },
    {
      "cell_type": "code",
      "source": [
        "# Fit the model to the 100% training data subsets\n",
        "model_USE_RMS_100_percent_history = model_USE_RMS_100_percent.fit(train_sentences,\n",
        "                              train_labels,\n",
        "                              epochs=5,\n",
        "                              validation_data=(val_sentences, val_labels),\n",
        "                              callbacks=[create_tensorboard_callback(SAVE_DIR,\n",
        "                                                                     \"tf_hub_sentence_encoder_RMS_100_percent_correct_split\")])"
      ],
      "metadata": {
        "colab": {
          "base_uri": "https://localhost:8080/"
        },
        "id": "4H6D9R-Nj_uD",
        "outputId": "42a507b0-7486-4344-bef6-d27e7cc31e49"
      },
      "execution_count": null,
      "outputs": [
        {
          "output_type": "stream",
          "name": "stdout",
          "text": [
            "Saving TensorBoard log files to: model_logs/tf_hub_sentence_encoder_RMS_100_percent_correct_split/20240120-233225\n",
            "Epoch 1/5\n",
            "215/215 [==============================] - 4s 11ms/step - loss: 0.5258 - accuracy: 0.7825 - val_loss: 0.4586 - val_accuracy: 0.7966\n",
            "Epoch 2/5\n",
            "215/215 [==============================] - 2s 9ms/step - loss: 0.4218 - accuracy: 0.8116 - val_loss: 0.4422 - val_accuracy: 0.8045\n",
            "Epoch 3/5\n",
            "215/215 [==============================] - 2s 9ms/step - loss: 0.4054 - accuracy: 0.8187 - val_loss: 0.4372 - val_accuracy: 0.8097\n",
            "Epoch 4/5\n",
            "215/215 [==============================] - 2s 9ms/step - loss: 0.3971 - accuracy: 0.8248 - val_loss: 0.4333 - val_accuracy: 0.8136\n",
            "Epoch 5/5\n",
            "215/215 [==============================] - 2s 9ms/step - loss: 0.3915 - accuracy: 0.8256 - val_loss: 0.4287 - val_accuracy: 0.8150\n"
          ]
        }
      ]
    },
    {
      "cell_type": "code",
      "source": [
        "# Make predictions with the model trained on 100% of the data\n",
        "model_USE_RMS_100_percent_pred_probs = model_USE_RMS_100_percent.predict(val_sentences)\n",
        "model_USE_RMS_100_percent_pred_probs[:10]"
      ],
      "metadata": {
        "colab": {
          "base_uri": "https://localhost:8080/"
        },
        "id": "CrlgQIlKj_y5",
        "outputId": "032c46cd-541d-400f-b8be-cc05200c5de0"
      },
      "execution_count": null,
      "outputs": [
        {
          "output_type": "stream",
          "name": "stdout",
          "text": [
            "24/24 [==============================] - 0s 7ms/step\n"
          ]
        },
        {
          "output_type": "execute_result",
          "data": {
            "text/plain": [
              "array([[0.17260325],\n",
              "       [0.77842337],\n",
              "       [0.9861196 ],\n",
              "       [0.195128  ],\n",
              "       [0.74719113],\n",
              "       [0.73109883],\n",
              "       [0.9788811 ],\n",
              "       [0.9757549 ],\n",
              "       [0.93953717],\n",
              "       [0.10727076]], dtype=float32)"
            ]
          },
          "metadata": {},
          "execution_count": 41
        }
      ]
    },
    {
      "cell_type": "code",
      "source": [
        "# Turn pred probs into labels\n",
        "model_USE_RMS_100_percent_preds = tf.squeeze(tf.round(model_USE_RMS_100_percent_pred_probs))\n",
        "model_USE_RMS_100_percent_preds[:10]"
      ],
      "metadata": {
        "colab": {
          "base_uri": "https://localhost:8080/"
        },
        "id": "zlsfKG6mj_3-",
        "outputId": "1049d996-7e2c-4209-c4bf-e8786fe0dc53"
      },
      "execution_count": null,
      "outputs": [
        {
          "output_type": "execute_result",
          "data": {
            "text/plain": [
              "<tf.Tensor: shape=(10,), dtype=float32, numpy=array([0., 1., 1., 0., 1., 1., 1., 1., 1., 0.], dtype=float32)>"
            ]
          },
          "metadata": {},
          "execution_count": 42
        }
      ]
    },
    {
      "cell_type": "code",
      "source": [
        "# Evaluate model_USE_10_percent predictions\n",
        "model_USE_RMS_100_percent_results = calculate_results(y_true=val_labels,\n",
        "                                    y_pred=model_USE_RMS_100_percent_preds)\n",
        "model_USE_RMS_100_percent_results"
      ],
      "metadata": {
        "colab": {
          "base_uri": "https://localhost:8080/"
        },
        "id": "Qdp8Q4-Dj_9a",
        "outputId": "bf9eb6a3-49c0-4d6f-d1e7-1bbba9b39639"
      },
      "execution_count": null,
      "outputs": [
        {
          "output_type": "execute_result",
          "data": {
            "text/plain": [
              "{'accuracy': 81.49606299212599,\n",
              " 'precision': 0.8157643862730394,\n",
              " 'recall': 0.8149606299212598,\n",
              " 'f1': 0.8139865765354786}"
            ]
          },
          "metadata": {},
          "execution_count": 43
        }
      ]
    },
    {
      "cell_type": "code",
      "source": [
        "model_USE_100_percent_results"
      ],
      "metadata": {
        "colab": {
          "base_uri": "https://localhost:8080/"
        },
        "id": "9M4bN7NwkACc",
        "outputId": "15b9491f-9f10-4d1e-e55d-16888192e20b"
      },
      "execution_count": null,
      "outputs": [
        {
          "output_type": "execute_result",
          "data": {
            "text/plain": [
              "{'accuracy': 81.62729658792651,\n",
              " 'precision': 0.818446310697231,\n",
              " 'recall': 0.8162729658792651,\n",
              " 'f1': 0.8148082644367335}"
            ]
          },
          "metadata": {},
          "execution_count": 44
        }
      ]
    },
    {
      "cell_type": "markdown",
      "source": [
        "### We observe a slight decrease in f1-score so we shall stick with Adam optimizer"
      ],
      "metadata": {
        "id": "pbMsZSOOkAIt"
      }
    },
    {
      "cell_type": "markdown",
      "source": [
        "### Model USE 100%: Universal Sentence Encoder model with 100% of the training data?\n",
        "\n",
        "* Change the optimizer type try: RMSprop? WORKS (very marginal)!!!!!!\n",
        "* Find the ideal learning rate? Use learning rate callback? WORKS (very marginal)!!!"
      ],
      "metadata": {
        "id": "z6SNEtJokAOj"
      }
    },
    {
      "cell_type": "code",
      "source": [
        "# Create model using the Sequential API\n",
        "model_USE_Adam_LR_100_percent = tf.keras.Sequential([\n",
        "    sentence_encoder_layer,\n",
        "    layers.Dense(64, activation=\"relu\"),\n",
        "    layers.Dense(1, activation=\"sigmoid\", name=\"output_layer\")\n",
        "], name=\"model_USE_Adam_100_percent\")\n",
        "\n",
        "# Compile\n",
        "model_USE_Adam_LR_100_percent.compile(loss=\"binary_crossentropy\",\n",
        "                optimizer=tf.keras.optimizers.Adam(learning_rate=0.001),\n",
        "                metrics=[\"accuracy\"])\n",
        "\n",
        "model_USE_Adam_LR_100_percent.summary()"
      ],
      "metadata": {
        "colab": {
          "base_uri": "https://localhost:8080/"
        },
        "id": "1Mwu4Hnb3YLU",
        "outputId": "25c8ca78-418d-4ac5-d0a1-3dafeb9e0693"
      },
      "execution_count": null,
      "outputs": [
        {
          "output_type": "stream",
          "name": "stdout",
          "text": [
            "Model: \"model_USE_Adam_100_percent\"\n",
            "_________________________________________________________________\n",
            " Layer (type)                Output Shape              Param #   \n",
            "=================================================================\n",
            " USE (KerasLayer)            (None, 512)               256797824 \n",
            "                                                                 \n",
            " dense_2 (Dense)             (None, 64)                32832     \n",
            "                                                                 \n",
            " output_layer (Dense)        (None, 1)                 65        \n",
            "                                                                 \n",
            "=================================================================\n",
            "Total params: 256830721 (979.73 MB)\n",
            "Trainable params: 32897 (128.50 KB)\n",
            "Non-trainable params: 256797824 (979.61 MB)\n",
            "_________________________________________________________________\n"
          ]
        }
      ]
    },
    {
      "cell_type": "code",
      "source": [
        "# Create a learning rate callback\n",
        "lr_scheduler = tf.keras.callbacks.LearningRateScheduler(lambda epoch: 1e-3 * 10**(epoch/5))\n",
        "\n",
        "# Fit the model\n",
        "model_USE_Adam_LR_100_percent_history = model_USE_Adam_LR_100_percent.fit(train_sentences,\n",
        "                                                                        train_labels,\n",
        "                                                                        epochs=10,\n",
        "                                                                        steps_per_epoch=len(train_sentences),\n",
        "                                                                        validation_data=(val_sentences, val_labels),\n",
        "                                                                        callbacks=[lr_scheduler])"
      ],
      "metadata": {
        "colab": {
          "base_uri": "https://localhost:8080/"
        },
        "id": "5TxUHVnVwRbl",
        "outputId": "29e6099a-096c-47f6-d3db-5a735a17bbaa"
      },
      "execution_count": null,
      "outputs": [
        {
          "output_type": "stream",
          "name": "stdout",
          "text": [
            "Epoch 1/10\n",
            "6851/6851 [==============================] - 44s 6ms/step - loss: 0.4483 - accuracy: 0.8000 - val_loss: 0.4336 - val_accuracy: 0.8110 - lr: 0.0010\n",
            "Epoch 2/10\n",
            "6851/6851 [==============================] - 42s 6ms/step - loss: 0.4078 - accuracy: 0.8228 - val_loss: 0.4313 - val_accuracy: 0.8045 - lr: 0.0016\n",
            "Epoch 3/10\n",
            "6851/6851 [==============================] - 42s 6ms/step - loss: 0.3863 - accuracy: 0.8330 - val_loss: 0.4305 - val_accuracy: 0.8215 - lr: 0.0025\n",
            "Epoch 4/10\n",
            "6851/6851 [==============================] - 42s 6ms/step - loss: 0.3694 - accuracy: 0.8437 - val_loss: 0.4639 - val_accuracy: 0.7953 - lr: 0.0040\n",
            "Epoch 5/10\n",
            "6851/6851 [==============================] - 42s 6ms/step - loss: 0.3525 - accuracy: 0.8513 - val_loss: 0.4699 - val_accuracy: 0.8097 - lr: 0.0063\n",
            "Epoch 6/10\n",
            "6851/6851 [==============================] - 43s 6ms/step - loss: 0.3462 - accuracy: 0.8539 - val_loss: 0.5064 - val_accuracy: 0.7953 - lr: 0.0100\n",
            "Epoch 7/10\n",
            "6851/6851 [==============================] - 41s 6ms/step - loss: 0.3723 - accuracy: 0.8476 - val_loss: 0.5971 - val_accuracy: 0.7861 - lr: 0.0158\n",
            "Epoch 8/10\n",
            "6851/6851 [==============================] - 42s 6ms/step - loss: 0.4339 - accuracy: 0.8307 - val_loss: 0.6166 - val_accuracy: 0.7887 - lr: 0.0251\n",
            "Epoch 9/10\n",
            "6851/6851 [==============================] - 42s 6ms/step - loss: 0.5070 - accuracy: 0.8105 - val_loss: 0.7317 - val_accuracy: 0.7572 - lr: 0.0398\n",
            "Epoch 10/10\n",
            "6851/6851 [==============================] - 42s 6ms/step - loss: 0.6704 - accuracy: 0.7773 - val_loss: 0.7496 - val_accuracy: 0.7192 - lr: 0.0631\n"
          ]
        }
      ]
    },
    {
      "cell_type": "code",
      "source": [
        "import matplotlib.pyplot as plt\n",
        "\n",
        "\n",
        "# Plot the learning rate versus the loss\n",
        "lrs = 1e-3 * (10 ** (tf.range(10)/5))\n",
        "plt.figure(figsize=(10, 7))\n",
        "plt.semilogx(lrs, model_USE_Adam_LR_100_percent_history.history[\"val_loss\"])\n",
        "plt.xlabel(\"Learning Rate\")\n",
        "plt.ylabel(\"Val Loss\")\n",
        "plt.title(\"Learning rate vs. Loss\");"
      ],
      "metadata": {
        "id": "VnXwYGqSkAUq",
        "colab": {
          "base_uri": "https://localhost:8080/",
          "height": 646
        },
        "outputId": "f209cf0c-830f-4ee2-94ac-e246377da55a"
      },
      "execution_count": null,
      "outputs": [
        {
          "output_type": "display_data",
          "data": {
            "text/plain": [
              "<Figure size 1000x700 with 1 Axes>"
            ],
            "image/png": "[encoded data removed]"
          },
          "metadata": {}
        }
      ]
    },
    {
      "cell_type": "code",
      "source": [
        "# Plot the learning rate versus the loss\n",
        "lrs = 1e-3 * (10 ** (tf.range(10)/5))\n",
        "plt.figure(figsize=(10, 7))\n",
        "plt.semilogx(lrs, model_USE_Adam_LR_100_percent_history.history[\"val_accuracy\"])\n",
        "plt.xlabel(\"Learning Rate\")\n",
        "plt.ylabel(\"Val Accuracy\")\n",
        "plt.title(\"Learning rate vs. Loss\");"
      ],
      "metadata": {
        "colab": {
          "base_uri": "https://localhost:8080/",
          "height": 646
        },
        "id": "-SRKmnFDYiEY",
        "outputId": "7fa96176-5d6c-4692-87a3-7ee186fd8391"
      },
      "execution_count": null,
      "outputs": [
        {
          "output_type": "display_data",
          "data": {
            "text/plain": [
              "<Figure size 1000x700 with 1 Axes>"
            ],
            "image/png": "[encoded data removed]"
          },
          "metadata": {}
        }
      ]
    },
    {
      "cell_type": "markdown",
      "source": [
        "#### Hence, we conclude that the ideal learning rate is  lr=0.0016 as it has the lowest val_loss\n",
        "\n",
        "Now let us use this value to recreate the model"
      ],
      "metadata": {
        "id": "vUb_YjIrwbXG"
      }
    },
    {
      "cell_type": "code",
      "source": [
        "# Create a Keras Layer using the USE pretrained layer from tensorflow hub\n",
        "sentence_encoder_layer = hub.KerasLayer(\"https://www.kaggle.com/models/google/universal-sentence-encoder/frameworks/tensorFlow2/variations/universal-sentence-encoder/versions/2\",\n",
        "                                        input_shape=[],\n",
        "                                        dtype=tf.string,\n",
        "                                        trainable=False,\n",
        "                                        name=\"USE\")"
      ],
      "metadata": {
        "id": "HK7pDENRkAbM"
      },
      "execution_count": null,
      "outputs": []
    },
    {
      "cell_type": "code",
      "source": [
        "# Create model using the Sequential API\n",
        "model_USE_Adam_iLR_100_percent = tf.keras.Sequential([\n",
        "    sentence_encoder_layer,\n",
        "    layers.Dense(64, activation=\"relu\"),\n",
        "    layers.Dense(1, activation=\"sigmoid\", name=\"output_layer\")\n",
        "], name=\"model_USE_Adam_iLR_100_percent\")\n",
        "\n",
        "# Original lr=0.0025, 0.001 (0.8149987406062964)\n",
        "\n",
        "# Compile\n",
        "model_USE_Adam_iLR_100_percent.compile(loss=\"binary_crossentropy\",\n",
        "                optimizer=tf.keras.optimizers.Adam(learning_rate=0.0025),\n",
        "                metrics=[\"accuracy\"])\n",
        "\n",
        "model_USE_Adam_iLR_100_percent.summary()"
      ],
      "metadata": {
        "colab": {
          "base_uri": "https://localhost:8080/"
        },
        "id": "Ugytp7Hz4FKn",
        "outputId": "19026342-2410-4086-8ba5-64d462ec8f60"
      },
      "execution_count": null,
      "outputs": [
        {
          "output_type": "stream",
          "name": "stdout",
          "text": [
            "Model: \"model_USE_Adam_iLR_100_percent\"\n",
            "_________________________________________________________________\n",
            " Layer (type)                Output Shape              Param #   \n",
            "=================================================================\n",
            " USE (KerasLayer)            (None, 512)               256797824 \n",
            "                                                                 \n",
            " dense_3 (Dense)             (None, 64)                32832     \n",
            "                                                                 \n",
            " output_layer (Dense)        (None, 1)                 65        \n",
            "                                                                 \n",
            "=================================================================\n",
            "Total params: 256830721 (979.73 MB)\n",
            "Trainable params: 32897 (128.50 KB)\n",
            "Non-trainable params: 256797824 (979.61 MB)\n",
            "_________________________________________________________________\n"
          ]
        }
      ]
    },
    {
      "cell_type": "code",
      "source": [
        "seed = 42\n",
        "tf.random.set_seed(seed)\n",
        "np.random.seed(seed)\n",
        "# Fit the model to the 100% training data subsets\n",
        "model_USE_Adam_iLR_100_percent_history = model_USE_Adam_iLR_100_percent.fit(train_sentences,\n",
        "                              train_labels,\n",
        "                              epochs=5,\n",
        "                              validation_data=(val_sentences, val_labels),\n",
        "                              callbacks=[create_tensorboard_callback(SAVE_DIR,\n",
        "                                                                     \"tf_hub_sentence_encoder_Adam_iLR_100_percent_correct_split\")])"
      ],
      "metadata": {
        "colab": {
          "base_uri": "https://localhost:8080/"
        },
        "id": "hOvAVRKO4FQ9",
        "outputId": "ec3c3537-c8f3-4e8f-96e9-c1402f604652"
      },
      "execution_count": null,
      "outputs": [
        {
          "output_type": "stream",
          "name": "stdout",
          "text": [
            "Saving TensorBoard log files to: model_logs/tf_hub_sentence_encoder_Adam_iLR_100_percent_correct_split/20240120-234121\n",
            "Epoch 1/5\n",
            "215/215 [==============================] - 5s 11ms/step - loss: 0.4634 - accuracy: 0.7959 - val_loss: 0.4403 - val_accuracy: 0.8005\n",
            "Epoch 2/5\n",
            "215/215 [==============================] - 2s 9ms/step - loss: 0.4053 - accuracy: 0.8170 - val_loss: 0.4265 - val_accuracy: 0.8176\n",
            "Epoch 3/5\n",
            "215/215 [==============================] - 2s 9ms/step - loss: 0.3883 - accuracy: 0.8286 - val_loss: 0.4271 - val_accuracy: 0.8189\n",
            "Epoch 4/5\n",
            "215/215 [==============================] - 2s 9ms/step - loss: 0.3752 - accuracy: 0.8354 - val_loss: 0.4251 - val_accuracy: 0.8163\n",
            "Epoch 5/5\n",
            "215/215 [==============================] - 2s 9ms/step - loss: 0.3605 - accuracy: 0.8427 - val_loss: 0.4301 - val_accuracy: 0.8202\n"
          ]
        }
      ]
    },
    {
      "cell_type": "code",
      "source": [
        "# Make predictions with the model trained on 100% of the data\n",
        "model_USE_Adam_iLR_100_percent_pred_probs = model_USE_Adam_iLR_100_percent.predict(val_sentences)\n",
        "model_USE_Adam_iLR_100_percent_pred_probs[:10]"
      ],
      "metadata": {
        "colab": {
          "base_uri": "https://localhost:8080/"
        },
        "id": "ktrkLsSI4FXh",
        "outputId": "2f50079a-65fd-4e69-a689-c18b293c18d1"
      },
      "execution_count": null,
      "outputs": [
        {
          "output_type": "stream",
          "name": "stdout",
          "text": [
            "24/24 [==============================] - 1s 7ms/step\n"
          ]
        },
        {
          "output_type": "execute_result",
          "data": {
            "text/plain": [
              "array([[0.14558497],\n",
              "       [0.74913657],\n",
              "       [0.9961248 ],\n",
              "       [0.26533234],\n",
              "       [0.6484028 ],\n",
              "       [0.7582646 ],\n",
              "       [0.9886967 ],\n",
              "       [0.9898363 ],\n",
              "       [0.96198803],\n",
              "       [0.07132525]], dtype=float32)"
            ]
          },
          "metadata": {},
          "execution_count": 52
        }
      ]
    },
    {
      "cell_type": "code",
      "source": [
        "# Turn pred probs into labels\n",
        "model_USE_Adam_iLR_100_percent_preds = tf.squeeze(tf.round(model_USE_Adam_iLR_100_percent_pred_probs))\n",
        "model_USE_Adam_iLR_100_percent_preds[:10]"
      ],
      "metadata": {
        "colab": {
          "base_uri": "https://localhost:8080/"
        },
        "id": "tOe2OfsC4Feh",
        "outputId": "540d8e9d-74a2-45cc-9149-b71f3c338132"
      },
      "execution_count": null,
      "outputs": [
        {
          "output_type": "execute_result",
          "data": {
            "text/plain": [
              "<tf.Tensor: shape=(10,), dtype=float32, numpy=array([0., 1., 1., 0., 1., 1., 1., 1., 1., 0.], dtype=float32)>"
            ]
          },
          "metadata": {},
          "execution_count": 53
        }
      ]
    },
    {
      "cell_type": "code",
      "source": [
        "# Evaluate model_USE_10_percent predictions\n",
        "model_USE_Adam_iLR_100_percent_preds_results = calculate_results(y_true=val_labels,\n",
        "                                    y_pred=model_USE_Adam_iLR_100_percent_preds)\n",
        "model_USE_Adam_iLR_100_percent_preds_results"
      ],
      "metadata": {
        "colab": {
          "base_uri": "https://localhost:8080/"
        },
        "id": "WTFKxm334FmU",
        "outputId": "7ef7af4a-503a-4a25-e435-560cef36f6cc"
      },
      "execution_count": null,
      "outputs": [
        {
          "output_type": "execute_result",
          "data": {
            "text/plain": [
              "{'accuracy': 82.02099737532808,\n",
              " 'precision': 0.8223219905078891,\n",
              " 'recall': 0.8202099737532809,\n",
              " 'f1': 0.8188242643827762}"
            ]
          },
          "metadata": {},
          "execution_count": 54
        }
      ]
    },
    {
      "cell_type": "code",
      "source": [
        "model_USE_100_percent_results"
      ],
      "metadata": {
        "colab": {
          "base_uri": "https://localhost:8080/"
        },
        "id": "TumTyuQT4FtY",
        "outputId": "bf659413-35f3-43b4-e1b6-fc9054ec08bb"
      },
      "execution_count": null,
      "outputs": [
        {
          "output_type": "execute_result",
          "data": {
            "text/plain": [
              "{'accuracy': 81.62729658792651,\n",
              " 'precision': 0.818446310697231,\n",
              " 'recall': 0.8162729658792651,\n",
              " 'f1': 0.8148082644367335}"
            ]
          },
          "metadata": {},
          "execution_count": 55
        }
      ]
    },
    {
      "cell_type": "markdown",
      "source": [
        "### Learning rate does makes an increase.\n",
        "\n",
        "Following methods to consider:\n",
        "\n",
        "* LSTM\n",
        "\n",
        "* Batching\n",
        "\n",
        "* [Augment the data](https://neptune.ai/blog/data-augmentation-nlp) (hardest to do)"
      ],
      "metadata": {
        "id": "ht2SrmSjsg5F"
      }
    },
    {
      "cell_type": "markdown",
      "source": [
        "### Now let's try add an LSTM layer to our model"
      ],
      "metadata": {
        "id": "__GEQ1lygTrf"
      }
    },
    {
      "cell_type": "code",
      "source": [
        "# Create a Keras Layer using the USE pretrained layer from tensorflow hub\n",
        "sentence_encoder_layer = hub.KerasLayer(\"https://www.kaggle.com/models/google/universal-sentence-encoder/frameworks/tensorFlow2/variations/universal-sentence-encoder/versions/2\",\n",
        "                                        input_shape=[],\n",
        "                                        dtype=tf.string,\n",
        "                                        trainable=False,\n",
        "                                        name=\"USE\")"
      ],
      "metadata": {
        "id": "BLgyeJtFgXWg"
      },
      "execution_count": null,
      "outputs": []
    },
    {
      "cell_type": "code",
      "source": [
        "# Create model using the Sequential API\n",
        "model_USE_Adam_LSTM_iLR_100_percent = tf.keras.Sequential([\n",
        "    sentence_encoder_layer,\n",
        "    layers.Flatten(),\n",
        "    layers.Reshape((1, -1)),  # Reshape to add a new dimension\n",
        "    layers.Bidirectional(tf.keras.layers.LSTM(64)),\n",
        "    layers.Dense(64, activation=\"relu\"),\n",
        "    layers.Dense(1, activation=\"sigmoid\", name=\"output_layer\")\n",
        "], name=\"model_USE_Adam_LSTM_iLR_100_percent\")\n",
        "\n",
        "# Compile\n",
        "model_USE_Adam_LSTM_iLR_100_percent.compile(loss=\"binary_crossentropy\",\n",
        "                optimizer=tf.keras.optimizers.Adam(learning_rate=0.0025),\n",
        "                metrics=[\"accuracy\"])\n",
        "\n",
        "model_USE_Adam_LSTM_iLR_100_percent.summary()"
      ],
      "metadata": {
        "colab": {
          "base_uri": "https://localhost:8080/"
        },
        "id": "BOpOmUblgXcf",
        "outputId": "bd3d9317-3c35-4869-ea64-f61bf7042ddf"
      },
      "execution_count": null,
      "outputs": [
        {
          "output_type": "stream",
          "name": "stdout",
          "text": [
            "Model: \"model_USE_Adam_LSTM_iLR_100_percent\"\n",
            "_________________________________________________________________\n",
            " Layer (type)                Output Shape              Param #   \n",
            "=================================================================\n",
            " USE (KerasLayer)            (None, 512)               256797824 \n",
            "                                                                 \n",
            " flatten_1 (Flatten)         (None, 512)               0         \n",
            "                                                                 \n",
            " reshape_1 (Reshape)         (None, 1, 512)            0         \n",
            "                                                                 \n",
            " bidirectional_1 (Bidirecti  (None, 128)               295424    \n",
            " onal)                                                           \n",
            "                                                                 \n",
            " dense_5 (Dense)             (None, 64)                8256      \n",
            "                                                                 \n",
            " output_layer (Dense)        (None, 1)                 65        \n",
            "                                                                 \n",
            "=================================================================\n",
            "Total params: 257101569 (980.76 MB)\n",
            "Trainable params: 303745 (1.16 MB)\n",
            "Non-trainable params: 256797824 (979.61 MB)\n",
            "_________________________________________________________________\n"
          ]
        }
      ]
    },
    {
      "cell_type": "code",
      "source": [
        "seed = 42\n",
        "tf.random.set_seed(seed)\n",
        "np.random.seed(seed)\n",
        "# Fit the model to the 100% training data subsets\n",
        "model_USE_Adam_LSTM_iLR_100_percent_history = model_USE_Adam_LSTM_iLR_100_percent.fit(train_sentences,\n",
        "                              train_labels,\n",
        "                              epochs=5,\n",
        "                              validation_data=(val_sentences, val_labels),\n",
        "                              callbacks=[create_tensorboard_callback(SAVE_DIR,\n",
        "                                                                     \"tf_hub_sentence_encoder_Adam_LSTM_iLR_100_percent_correct_split\")])"
      ],
      "metadata": {
        "colab": {
          "base_uri": "https://localhost:8080/"
        },
        "id": "875x0CFdgXir",
        "outputId": "c3e93beb-13b8-46c0-c30b-126599806e4f"
      },
      "execution_count": null,
      "outputs": [
        {
          "output_type": "stream",
          "name": "stdout",
          "text": [
            "Saving TensorBoard log files to: model_logs/tf_hub_sentence_encoder_Adam_LSTM_iLR_100_percent_correct_split/20240120-234240\n",
            "Epoch 1/5\n",
            "215/215 [==============================] - 9s 16ms/step - loss: 0.4553 - accuracy: 0.8003 - val_loss: 0.4381 - val_accuracy: 0.8018\n",
            "Epoch 2/5\n",
            "215/215 [==============================] - 2s 11ms/step - loss: 0.4031 - accuracy: 0.8205 - val_loss: 0.4257 - val_accuracy: 0.8110\n",
            "Epoch 3/5\n",
            "215/215 [==============================] - 2s 11ms/step - loss: 0.3889 - accuracy: 0.8283 - val_loss: 0.4230 - val_accuracy: 0.8215\n",
            "Epoch 4/5\n",
            "215/215 [==============================] - 2s 11ms/step - loss: 0.3769 - accuracy: 0.8365 - val_loss: 0.4234 - val_accuracy: 0.8150\n",
            "Epoch 5/5\n",
            "215/215 [==============================] - 2s 11ms/step - loss: 0.3629 - accuracy: 0.8405 - val_loss: 0.4260 - val_accuracy: 0.8189\n"
          ]
        }
      ]
    },
    {
      "cell_type": "code",
      "source": [
        "# Make predictions with the model trained on 100% of the data\n",
        "model_USE_Adam_LSTM_iLR_100_percent_pred_probs = model_USE_Adam_LSTM_iLR_100_percent.predict(val_sentences)\n",
        "model_USE_Adam_LSTM_iLR_100_percent_pred_probs[:10]"
      ],
      "metadata": {
        "colab": {
          "base_uri": "https://localhost:8080/"
        },
        "id": "Nh3NCbW3gXpN",
        "outputId": "f1f7618f-ffd7-4e4e-e658-0bb7acd965ef"
      },
      "execution_count": null,
      "outputs": [
        {
          "output_type": "stream",
          "name": "stdout",
          "text": [
            "24/24 [==============================] - 1s 8ms/step\n"
          ]
        },
        {
          "output_type": "execute_result",
          "data": {
            "text/plain": [
              "array([[0.10664782],\n",
              "       [0.76624167],\n",
              "       [0.99909914],\n",
              "       [0.20885518],\n",
              "       [0.44600883],\n",
              "       [0.87732106],\n",
              "       [0.99486524],\n",
              "       [0.99038434],\n",
              "       [0.99517006],\n",
              "       [0.07716962]], dtype=float32)"
            ]
          },
          "metadata": {},
          "execution_count": 62
        }
      ]
    },
    {
      "cell_type": "code",
      "source": [
        "# Turn pred probs into labels\n",
        "model_USE_Adam_LSTM_iLR_100_percent_preds = tf.squeeze(tf.round(model_USE_Adam_LSTM_iLR_100_percent_pred_probs))\n",
        "model_USE_Adam_LSTM_iLR_100_percent_preds[:10]"
      ],
      "metadata": {
        "colab": {
          "base_uri": "https://localhost:8080/"
        },
        "id": "FOwzjoS_gpvv",
        "outputId": "6f55ea85-ec0a-48b8-eed5-3bf2ebb5d500"
      },
      "execution_count": null,
      "outputs": [
        {
          "output_type": "execute_result",
          "data": {
            "text/plain": [
              "<tf.Tensor: shape=(10,), dtype=float32, numpy=array([0., 1., 1., 0., 0., 1., 1., 1., 1., 0.], dtype=float32)>"
            ]
          },
          "metadata": {},
          "execution_count": 63
        }
      ]
    },
    {
      "cell_type": "code",
      "source": [
        "# Evaluate model_USE_10_percent predictions\n",
        "model_USE_Adam_LSTM_iLR_100_percent_preds_results = calculate_results(y_true=val_labels,\n",
        "                                    y_pred=model_USE_Adam_LSTM_iLR_100_percent_preds)\n",
        "model_USE_Adam_LSTM_iLR_100_percent_preds_results"
      ],
      "metadata": {
        "colab": {
          "base_uri": "https://localhost:8080/"
        },
        "id": "PuQVWpdOgp39",
        "outputId": "6e97b196-7dfc-435a-b887-60df2e0f2d7d"
      },
      "execution_count": null,
      "outputs": [
        {
          "output_type": "execute_result",
          "data": {
            "text/plain": [
              "{'accuracy': 81.88976377952756,\n",
              " 'precision': 0.8246806372304727,\n",
              " 'recall': 0.8188976377952756,\n",
              " 'f1': 0.8164733965877927}"
            ]
          },
          "metadata": {},
          "execution_count": 64
        }
      ]
    },
    {
      "cell_type": "code",
      "source": [
        "model_USE_Adam_iLR_100_percent_preds_results"
      ],
      "metadata": {
        "colab": {
          "base_uri": "https://localhost:8080/"
        },
        "id": "P6fmRs_fgp_6",
        "outputId": "d35896bd-2e2e-4d5f-90f6-485e57efaf42"
      },
      "execution_count": null,
      "outputs": [
        {
          "output_type": "execute_result",
          "data": {
            "text/plain": [
              "{'accuracy': 82.02099737532808,\n",
              " 'precision': 0.8223219905078891,\n",
              " 'recall': 0.8202099737532809,\n",
              " 'f1': 0.8188242643827762}"
            ]
          },
          "metadata": {},
          "execution_count": 65
        }
      ]
    },
    {
      "cell_type": "markdown",
      "source": [
        "### The f1 score is improving, let's try and tune the LSTM Parameters"
      ],
      "metadata": {
        "id": "jMnJp8eOj3fc"
      }
    },
    {
      "cell_type": "code",
      "source": [
        "# Create a Keras Layer using the USE pretrained layer from tensorflow hub\n",
        "sentence_encoder_layer = hub.KerasLayer(\"https://www.kaggle.com/models/google/universal-sentence-encoder/frameworks/tensorFlow2/variations/universal-sentence-encoder/versions/2\",\n",
        "                                        input_shape=[],\n",
        "                                        dtype=tf.string,\n",
        "                                        trainable=False,\n",
        "                                        name=\"USE\")"
      ],
      "metadata": {
        "id": "BMDBiQFFkxKv"
      },
      "execution_count": null,
      "outputs": []
    },
    {
      "cell_type": "code",
      "source": [
        "# Create model using the Sequential API\n",
        "model_USE_Adam_LSTM_adj_iLR_100_percent = tf.keras.Sequential([\n",
        "    sentence_encoder_layer,\n",
        "    layers.Flatten(),\n",
        "    layers.Reshape((1, -1)),  # Reshape to add a new dimension\n",
        "    layers.Bidirectional(tf.keras.layers.LSTM(64, dropout=0.1, recurrent_dropout=0.1)),\n",
        "    layers.Dense(64, activation=\"relu\"),\n",
        "    layers.Dense(1, activation=\"sigmoid\", name=\"output_layer\")\n",
        "], name=\"model_USE_Adam_LSTM_adj_iLR_100_percent\")\n",
        "\n",
        "# Compile\n",
        "model_USE_Adam_LSTM_adj_iLR_100_percent.compile(loss=\"binary_crossentropy\",\n",
        "                optimizer=tf.keras.optimizers.Adam(learning_rate=0.0025),\n",
        "                metrics=[\"accuracy\"])\n",
        "\n",
        "model_USE_Adam_LSTM_adj_iLR_100_percent.summary()"
      ],
      "metadata": {
        "id": "faOTv71NkxVK",
        "colab": {
          "base_uri": "https://localhost:8080/"
        },
        "outputId": "b7aecdad-2238-44be-87b9-48bda73a57bd"
      },
      "execution_count": null,
      "outputs": [
        {
          "output_type": "stream",
          "name": "stderr",
          "text": [
            "WARNING:tensorflow:Layer lstm_3 will not use cuDNN kernels since it doesn't meet the criteria. It will use a generic GPU kernel as fallback when running on GPU.\n",
            "WARNING:tensorflow:Layer lstm_3 will not use cuDNN kernels since it doesn't meet the criteria. It will use a generic GPU kernel as fallback when running on GPU.\n",
            "WARNING:tensorflow:Layer lstm_3 will not use cuDNN kernels since it doesn't meet the criteria. It will use a generic GPU kernel as fallback when running on GPU.\n"
          ]
        },
        {
          "output_type": "stream",
          "name": "stdout",
          "text": [
            "Model: \"model_USE_Adam_LSTM_adj_iLR_100_percent\"\n",
            "_________________________________________________________________\n",
            " Layer (type)                Output Shape              Param #   \n",
            "=================================================================\n",
            " USE (KerasLayer)            (None, 512)               256797824 \n",
            "                                                                 \n",
            " flatten_3 (Flatten)         (None, 512)               0         \n",
            "                                                                 \n",
            " reshape_3 (Reshape)         (None, 1, 512)            0         \n",
            "                                                                 \n",
            " bidirectional_3 (Bidirecti  (None, 128)               295424    \n",
            " onal)                                                           \n",
            "                                                                 \n",
            " dense_7 (Dense)             (None, 64)                8256      \n",
            "                                                                 \n",
            " output_layer (Dense)        (None, 1)                 65        \n",
            "                                                                 \n",
            "=================================================================\n",
            "Total params: 257101569 (980.76 MB)\n",
            "Trainable params: 303745 (1.16 MB)\n",
            "Non-trainable params: 256797824 (979.61 MB)\n",
            "_________________________________________________________________\n"
          ]
        }
      ]
    },
    {
      "cell_type": "code",
      "source": [
        "seed = 42\n",
        "tf.random.set_seed(seed)\n",
        "np.random.seed(seed)\n",
        "# Fit the model to the 100% training data subsets\n",
        "model_USE_Adam_LSTM_adj_iLR_100_percent_history = model_USE_Adam_LSTM_adj_iLR_100_percent.fit(train_sentences,\n",
        "                              train_labels,\n",
        "                              epochs=5,\n",
        "                              validation_data=(val_sentences, val_labels),\n",
        "                              callbacks=[create_tensorboard_callback(SAVE_DIR,\n",
        "                                                                     \"tf_hub_sentence_encoder_Adam_LSTM_adj_iLR_100_percent_correct_split\")])"
      ],
      "metadata": {
        "id": "ldq7W2pwkxd2",
        "colab": {
          "base_uri": "https://localhost:8080/"
        },
        "outputId": "daf9730a-3f13-4301-d977-508201bcb83f"
      },
      "execution_count": null,
      "outputs": [
        {
          "output_type": "stream",
          "name": "stdout",
          "text": [
            "Saving TensorBoard log files to: model_logs/tf_hub_sentence_encoder_Adam_LSTM_adj_iLR_100_percent_correct_split/20240120-234334\n",
            "Epoch 1/5\n",
            "215/215 [==============================] - 12s 19ms/step - loss: 0.4586 - accuracy: 0.8002 - val_loss: 0.4374 - val_accuracy: 0.8110\n",
            "Epoch 2/5\n",
            "215/215 [==============================] - 3s 16ms/step - loss: 0.4085 - accuracy: 0.8174 - val_loss: 0.4283 - val_accuracy: 0.8071\n",
            "Epoch 3/5\n",
            "215/215 [==============================] - 4s 16ms/step - loss: 0.3968 - accuracy: 0.8243 - val_loss: 0.4222 - val_accuracy: 0.8163\n",
            "Epoch 4/5\n",
            "215/215 [==============================] - 4s 17ms/step - loss: 0.3874 - accuracy: 0.8300 - val_loss: 0.4229 - val_accuracy: 0.8110\n",
            "Epoch 5/5\n",
            "215/215 [==============================] - 4s 16ms/step - loss: 0.3750 - accuracy: 0.8336 - val_loss: 0.4273 - val_accuracy: 0.8136\n"
          ]
        }
      ]
    },
    {
      "cell_type": "code",
      "source": [
        "# Make predictions with the model trained on 100% of the data\n",
        "model_USE_Adam_LSTM_adj_iLR_100_percent_pred_probs = model_USE_Adam_LSTM_adj_iLR_100_percent.predict(val_sentences)\n",
        "model_USE_Adam_LSTM_adj_iLR_100_percent_pred_probs[:10]"
      ],
      "metadata": {
        "id": "bangdgu9kxm_",
        "colab": {
          "base_uri": "https://localhost:8080/"
        },
        "outputId": "e735881a-d799-4c8f-f031-3559adb75ca5"
      },
      "execution_count": null,
      "outputs": [
        {
          "output_type": "stream",
          "name": "stdout",
          "text": [
            "24/24 [==============================] - 1s 8ms/step\n"
          ]
        },
        {
          "output_type": "execute_result",
          "data": {
            "text/plain": [
              "array([[0.08407847],\n",
              "       [0.767007  ],\n",
              "       [0.99822086],\n",
              "       [0.23743105],\n",
              "       [0.4892799 ],\n",
              "       [0.8168135 ],\n",
              "       [0.99395716],\n",
              "       [0.9973557 ],\n",
              "       [0.9896159 ],\n",
              "       [0.10586926]], dtype=float32)"
            ]
          },
          "metadata": {},
          "execution_count": 71
        }
      ]
    },
    {
      "cell_type": "code",
      "source": [
        "# Turn pred probs into labels\n",
        "model_USE_Adam_LSTM_adj_iLR_100_percent_preds = tf.squeeze(tf.round(model_USE_Adam_LSTM_adj_iLR_100_percent_pred_probs))\n",
        "model_USE_Adam_LSTM_adj_iLR_100_percent_preds[:10]"
      ],
      "metadata": {
        "id": "XW-w6v6Ykxvm",
        "colab": {
          "base_uri": "https://localhost:8080/"
        },
        "outputId": "7ea85473-b4c6-45ec-dd70-fbb70d0f77dd"
      },
      "execution_count": null,
      "outputs": [
        {
          "output_type": "execute_result",
          "data": {
            "text/plain": [
              "<tf.Tensor: shape=(10,), dtype=float32, numpy=array([0., 1., 1., 0., 0., 1., 1., 1., 1., 0.], dtype=float32)>"
            ]
          },
          "metadata": {},
          "execution_count": 72
        }
      ]
    },
    {
      "cell_type": "code",
      "source": [
        "# Evaluate model_USE_10_percent predictions\n",
        "model_USE_Adam_LSTM_adj_iLR_100_percent_preds_results = calculate_results(y_true=val_labels,\n",
        "                                    y_pred=model_USE_Adam_LSTM_adj_iLR_100_percent_preds)\n",
        "model_USE_Adam_LSTM_adj_iLR_100_percent_preds_results"
      ],
      "metadata": {
        "colab": {
          "base_uri": "https://localhost:8080/"
        },
        "id": "aviDvCVak9YX",
        "outputId": "f2111889-4465-4834-8a5e-7c25c16635c8"
      },
      "execution_count": null,
      "outputs": [
        {
          "output_type": "execute_result",
          "data": {
            "text/plain": [
              "{'accuracy': 81.36482939632546,\n",
              " 'precision': 0.8183059965070674,\n",
              " 'recall': 0.8136482939632546,\n",
              " 'f1': 0.8113979495492928}"
            ]
          },
          "metadata": {},
          "execution_count": 73
        }
      ]
    },
    {
      "cell_type": "code",
      "source": [
        "model_USE_Adam_iLR_100_percent_preds_results"
      ],
      "metadata": {
        "id": "3W33AEDekx5b",
        "colab": {
          "base_uri": "https://localhost:8080/"
        },
        "outputId": "17a5f79a-188c-4d96-9cb2-becf5c17261f"
      },
      "execution_count": null,
      "outputs": [
        {
          "output_type": "execute_result",
          "data": {
            "text/plain": [
              "{'accuracy': 82.02099737532808,\n",
              " 'precision': 0.8223219905078891,\n",
              " 'recall': 0.8202099737532809,\n",
              " 'f1': 0.8188242643827762}"
            ]
          },
          "metadata": {},
          "execution_count": 74
        }
      ]
    },
    {
      "cell_type": "code",
      "source": [
        "model_USE_Adam_LSTM_iLR_100_percent_preds_results"
      ],
      "metadata": {
        "id": "4KY8bgoKkyCC",
        "colab": {
          "base_uri": "https://localhost:8080/"
        },
        "outputId": "c355b742-3fec-4ea8-c196-d72ac4101d21"
      },
      "execution_count": null,
      "outputs": [
        {
          "output_type": "execute_result",
          "data": {
            "text/plain": [
              "{'accuracy': 81.88976377952756,\n",
              " 'precision': 0.8246806372304727,\n",
              " 'recall': 0.8188976377952756,\n",
              " 'f1': 0.8164733965877927}"
            ]
          },
          "metadata": {},
          "execution_count": 75
        }
      ]
    },
    {
      "cell_type": "code",
      "source": [
        "# model_USE_Adam_iLR_100_percent_preds_results best so far"
      ],
      "metadata": {
        "id": "O3c20rTnA3tu"
      },
      "execution_count": null,
      "outputs": []
    },
    {
      "cell_type": "markdown",
      "source": [
        "### So it appears tuning the model LSTM decrease our F1-score and adding in the LSTM layer has increased our F1-score.\n",
        "#### Perhaps we can now consider batching"
      ],
      "metadata": {
        "id": "DxDUL9IJj3pP"
      }
    },
    {
      "cell_type": "code",
      "source": [
        "# Create a Keras Layer using the USE pretrained layer from tensorflow hub\n",
        "sentence_encoder_layer = hub.KerasLayer(\"https://www.kaggle.com/models/google/universal-sentence-encoder/frameworks/tensorFlow2/variations/universal-sentence-encoder/versions/2\",\n",
        "                                        input_shape=[],\n",
        "                                        dtype=tf.string,\n",
        "                                        trainable=False,\n",
        "                                        name=\"USE\")"
      ],
      "metadata": {
        "id": "3alglnxrmuI8"
      },
      "execution_count": null,
      "outputs": []
    },
    {
      "cell_type": "code",
      "source": [
        "# Create model using the Sequential API\n",
        "model_USE_Adam_LSTM_batched_iLR_100_percent = tf.keras.Sequential([\n",
        "    sentence_encoder_layer,\n",
        "    layers.Flatten(),\n",
        "    layers.Reshape((1, -1)),  # Reshape to add a new dimension\n",
        "    layers.Bidirectional(tf.keras.layers.LSTM(64)),\n",
        "    layers.Dense(64, activation=\"relu\"),\n",
        "    layers.Dense(1, activation=\"sigmoid\", name=\"output_layer\")\n",
        "], name=\"model_USE_Adam_LSTM_batched_iLR_100_percent\")\n",
        "\n",
        "# Compile\n",
        "model_USE_Adam_LSTM_batched_iLR_100_percent.compile(loss=\"binary_crossentropy\",\n",
        "                optimizer=tf.keras.optimizers.Adam(learning_rate=0.0025),\n",
        "                metrics=[\"accuracy\"])\n",
        "\n",
        "model_USE_Adam_LSTM_batched_iLR_100_percent.summary()"
      ],
      "metadata": {
        "colab": {
          "base_uri": "https://localhost:8080/"
        },
        "id": "XmQEA3YPmuOr",
        "outputId": "3ad40cde-6eaf-4e83-abfa-661770cc07c8"
      },
      "execution_count": null,
      "outputs": [
        {
          "output_type": "stream",
          "name": "stdout",
          "text": [
            "Model: \"model_USE_Adam_LSTM_batched_iLR_100_percent\"\n",
            "_________________________________________________________________\n",
            " Layer (type)                Output Shape              Param #   \n",
            "=================================================================\n",
            " USE (KerasLayer)            (None, 512)               256797824 \n",
            "                                                                 \n",
            " flatten_4 (Flatten)         (None, 512)               0         \n",
            "                                                                 \n",
            " reshape_4 (Reshape)         (None, 1, 512)            0         \n",
            "                                                                 \n",
            " bidirectional_4 (Bidirecti  (None, 128)               295424    \n",
            " onal)                                                           \n",
            "                                                                 \n",
            " dense_8 (Dense)             (None, 64)                8256      \n",
            "                                                                 \n",
            " output_layer (Dense)        (None, 1)                 65        \n",
            "                                                                 \n",
            "=================================================================\n",
            "Total params: 257101569 (980.76 MB)\n",
            "Trainable params: 303745 (1.16 MB)\n",
            "Non-trainable params: 256797824 (979.61 MB)\n",
            "_________________________________________________________________\n"
          ]
        }
      ]
    },
    {
      "cell_type": "code",
      "source": [
        "seed = 42\n",
        "tf.random.set_seed(seed)\n",
        "np.random.seed(seed)\n",
        "# Fit the model to the 100% training data subsets\n",
        "# Add early stopping to prevent overfitting\n",
        "early_stopping = tf.keras.callbacks.EarlyStopping(monitor='val_loss', patience=3)\n",
        "model_USE_Adam_LSTM_batched_iLR_100_percent_history = model_USE_Adam_LSTM_batched_iLR_100_percent.fit(train_sentences,\n",
        "                                                                                                      train_labels,\n",
        "                                                                                                      epochs=15,\n",
        "                                                                                                      batch_size=32,\n",
        "                                                                                                      validation_data=(val_sentences, val_labels),\n",
        "                                                                                                      callbacks=[early_stopping])"
      ],
      "metadata": {
        "colab": {
          "base_uri": "https://localhost:8080/"
        },
        "id": "4-gTDkXwmuVG",
        "outputId": "3d6e6fb8-84c3-488c-f543-dd9d66992fb7"
      },
      "execution_count": null,
      "outputs": [
        {
          "output_type": "stream",
          "name": "stdout",
          "text": [
            "Epoch 1/15\n",
            "215/215 [==============================] - 8s 16ms/step - loss: 0.4532 - accuracy: 0.8016 - val_loss: 0.4391 - val_accuracy: 0.8071\n",
            "Epoch 2/15\n",
            "215/215 [==============================] - 2s 11ms/step - loss: 0.4043 - accuracy: 0.8184 - val_loss: 0.4268 - val_accuracy: 0.8110\n",
            "Epoch 3/15\n",
            "215/215 [==============================] - 2s 11ms/step - loss: 0.3905 - accuracy: 0.8279 - val_loss: 0.4239 - val_accuracy: 0.8163\n",
            "Epoch 4/15\n",
            "215/215 [==============================] - 2s 11ms/step - loss: 0.3792 - accuracy: 0.8348 - val_loss: 0.4258 - val_accuracy: 0.8110\n",
            "Epoch 5/15\n",
            "215/215 [==============================] - 2s 11ms/step - loss: 0.3672 - accuracy: 0.8383 - val_loss: 0.4301 - val_accuracy: 0.8202\n",
            "Epoch 6/15\n",
            "215/215 [==============================] - 2s 11ms/step - loss: 0.3487 - accuracy: 0.8467 - val_loss: 0.4384 - val_accuracy: 0.8110\n"
          ]
        }
      ]
    },
    {
      "cell_type": "code",
      "source": [
        "# Make predictions with the model trained on 100% of the data\n",
        "model_USE_Adam_LSTM_batched_iLR_100_percent_pred_probs = model_USE_Adam_LSTM_batched_iLR_100_percent.predict(val_sentences)\n",
        "# Turn pred probs into labels\n",
        "model_USE_Adam_LSTM_batched_iLR_100_percent_preds = tf.squeeze(tf.round(model_USE_Adam_LSTM_batched_iLR_100_percent_pred_probs))\n",
        "# Evaluate model_USE_10_percent predictions\n",
        "model_USE_Adam_LSTM_batched_iLR_100_percent_preds_results = calculate_results(y_true=val_labels,\n",
        "                                    y_pred=model_USE_Adam_LSTM_batched_iLR_100_percent_preds)\n",
        "model_USE_Adam_LSTM_batched_iLR_100_percent_preds_results"
      ],
      "metadata": {
        "colab": {
          "base_uri": "https://localhost:8080/"
        },
        "id": "kw1mKUMhmub3",
        "outputId": "b654db7c-d470-4a4f-b3e3-63875632475c"
      },
      "execution_count": null,
      "outputs": [
        {
          "output_type": "stream",
          "name": "stdout",
          "text": [
            "24/24 [==============================] - 1s 8ms/step\n"
          ]
        },
        {
          "output_type": "execute_result",
          "data": {
            "text/plain": [
              "{'accuracy': 81.10236220472441,\n",
              " 'precision': 0.8160249566261846,\n",
              " 'recall': 0.8110236220472441,\n",
              " 'f1': 0.8086192437519291}"
            ]
          },
          "metadata": {},
          "execution_count": 80
        }
      ]
    },
    {
      "cell_type": "code",
      "source": [
        "model_USE_Adam_LSTM_iLR_100_percent_preds_results"
      ],
      "metadata": {
        "colab": {
          "base_uri": "https://localhost:8080/"
        },
        "id": "f9P77qBSmuja",
        "outputId": "94eaeeeb-7051-4937-9cba-7d8239429a51"
      },
      "execution_count": null,
      "outputs": [
        {
          "output_type": "execute_result",
          "data": {
            "text/plain": [
              "{'accuracy': 81.88976377952756,\n",
              " 'precision': 0.8246806372304727,\n",
              " 'recall': 0.8188976377952756,\n",
              " 'f1': 0.8164733965877927}"
            ]
          },
          "metadata": {},
          "execution_count": 81
        }
      ]
    },
    {
      "cell_type": "code",
      "source": [
        "model_USE_Adam_iLR_100_percent_preds_results"
      ],
      "metadata": {
        "colab": {
          "base_uri": "https://localhost:8080/"
        },
        "id": "uBUcouyCnRoJ",
        "outputId": "f6d8c2f3-9d0a-4891-8955-bb3ffe212b7b"
      },
      "execution_count": null,
      "outputs": [
        {
          "output_type": "execute_result",
          "data": {
            "text/plain": [
              "{'accuracy': 82.02099737532808,\n",
              " 'precision': 0.8223219905078891,\n",
              " 'recall': 0.8202099737532809,\n",
              " 'f1': 0.8188242643827762}"
            ]
          },
          "metadata": {},
          "execution_count": 82
        }
      ]
    },
    {
      "cell_type": "code",
      "source": [
        "model_USE_Adam_LSTM_adj_iLR_100_percent_preds_results"
      ],
      "metadata": {
        "colab": {
          "base_uri": "https://localhost:8080/"
        },
        "id": "p_G_2Iry9xGu",
        "outputId": "513a54c8-3712-4a90-cce3-f178c7162fed"
      },
      "execution_count": null,
      "outputs": [
        {
          "output_type": "execute_result",
          "data": {
            "text/plain": [
              "{'accuracy': 81.36482939632546,\n",
              " 'precision': 0.8183059965070674,\n",
              " 'recall': 0.8136482939632546,\n",
              " 'f1': 0.8113979495492928}"
            ]
          },
          "metadata": {},
          "execution_count": 83
        }
      ]
    },
    {
      "cell_type": "code",
      "source": [
        "# model_USE_Adam_iLR_100_percent_preds_results best so far"
      ],
      "metadata": {
        "id": "2uZq_8HgBEdF"
      },
      "execution_count": null,
      "outputs": []
    },
    {
      "cell_type": "markdown",
      "source": [
        "### Hence, we can conclude that batching doesn't seem to work that well in this case as the ideal learning rate went down. The best model so far is:\n",
        "\n",
        "#### model_USE_Adam_iLR_100_percent\n",
        "\n",
        "\n",
        "### Other ideas:\n",
        "- [Augment the data](https://www.youtube.com/watch?v=lpWewl7y57o)\n",
        "- Stacking LSTM layers?\n",
        "- Try add in a GRU layer?"
      ],
      "metadata": {
        "id": "TkGD9DDgnRvx"
      }
    },
    {
      "cell_type": "code",
      "source": [
        "# Create a Keras Layer using the USE pretrained layer from tensorflow hub\n",
        "sentence_encoder_layer = hub.KerasLayer(\"https://www.kaggle.com/models/google/universal-sentence-encoder/frameworks/tensorFlow2/variations/universal-sentence-encoder/versions/2\",\n",
        "                                        input_shape=[],\n",
        "                                        dtype=tf.string,\n",
        "                                        trainable=False,\n",
        "                                        name=\"USE\")"
      ],
      "metadata": {
        "id": "BaepCgDsKwLG"
      },
      "execution_count": null,
      "outputs": []
    },
    {
      "cell_type": "code",
      "source": [
        "# Create model using the Sequential API\n",
        "model_USE_Adam_GRU_iLR_100_percent = tf.keras.Sequential([\n",
        "    sentence_encoder_layer,\n",
        "    layers.Flatten(),\n",
        "    layers.Reshape((1, -1)),  # Reshape to add a new dimension\n",
        "    layers.GRU(32),\n",
        "    layers.Dense(32, activation=\"relu\"),\n",
        "    layers.Dense(1, activation=\"sigmoid\", name=\"output_layer\")\n",
        "], name=\"model_USE_Adam_GRU_iLR_100_percent\")\n",
        "\n",
        "# Compile\n",
        "model_USE_Adam_GRU_iLR_100_percent.compile(loss=\"binary_crossentropy\",\n",
        "                optimizer=tf.keras.optimizers.Adam(learning_rate=0.0025),\n",
        "                metrics=[\"accuracy\"])\n",
        "\n",
        "model_USE_Adam_GRU_iLR_100_percent.summary()"
      ],
      "metadata": {
        "colab": {
          "base_uri": "https://localhost:8080/"
        },
        "id": "7MEGSm93KwT4",
        "outputId": "2d170b80-d5b0-4e19-fe98-a74bb729b3aa"
      },
      "execution_count": null,
      "outputs": [
        {
          "output_type": "stream",
          "name": "stdout",
          "text": [
            "Model: \"model_USE_Adam_GRU_iLR_100_percent\"\n",
            "_________________________________________________________________\n",
            " Layer (type)                Output Shape              Param #   \n",
            "=================================================================\n",
            " USE (KerasLayer)            (None, 512)               256797824 \n",
            "                                                                 \n",
            " flatten_5 (Flatten)         (None, 512)               0         \n",
            "                                                                 \n",
            " reshape_5 (Reshape)         (None, 1, 512)            0         \n",
            "                                                                 \n",
            " gru (GRU)                   (None, 32)                52416     \n",
            "                                                                 \n",
            " dense_9 (Dense)             (None, 32)                1056      \n",
            "                                                                 \n",
            " output_layer (Dense)        (None, 1)                 33        \n",
            "                                                                 \n",
            "=================================================================\n",
            "Total params: 256851329 (979.81 MB)\n",
            "Trainable params: 53505 (209.00 KB)\n",
            "Non-trainable params: 256797824 (979.61 MB)\n",
            "_________________________________________________________________\n"
          ]
        }
      ]
    },
    {
      "cell_type": "code",
      "source": [
        "seed = 42\n",
        "tf.random.set_seed(seed)\n",
        "np.random.seed(seed)\n",
        "# Fit the model to the 100% training data subsets\n",
        "model_USE_Adam_GRU_iLR_100_percent_history = model_USE_Adam_GRU_iLR_100_percent.fit(train_sentences,\n",
        "                              train_labels,\n",
        "                              epochs=15,\n",
        "                              validation_data=(val_sentences, val_labels),\n",
        "                              callbacks=[create_tensorboard_callback(SAVE_DIR,\n",
        "                                                                     \"tf_hub_sentence_encoder_Adam_GRU_iLR_100_percent_correct_split\")])"
      ],
      "metadata": {
        "colab": {
          "base_uri": "https://localhost:8080/"
        },
        "id": "dRX_oU5GKwcM",
        "outputId": "b772367e-60c1-4d15-b7ea-5983502b717f"
      },
      "execution_count": null,
      "outputs": [
        {
          "output_type": "stream",
          "name": "stdout",
          "text": [
            "Saving TensorBoard log files to: model_logs/tf_hub_sentence_encoder_Adam_GRU_iLR_100_percent_correct_split/20240120-234547\n",
            "Epoch 1/15\n",
            "215/215 [==============================] - 7s 14ms/step - loss: 0.4633 - accuracy: 0.7977 - val_loss: 0.4324 - val_accuracy: 0.8071\n",
            "Epoch 2/15\n",
            "215/215 [==============================] - 2s 10ms/step - loss: 0.4052 - accuracy: 0.8192 - val_loss: 0.4237 - val_accuracy: 0.8123\n",
            "Epoch 3/15\n",
            "215/215 [==============================] - 2s 10ms/step - loss: 0.3936 - accuracy: 0.8264 - val_loss: 0.4242 - val_accuracy: 0.8163\n",
            "Epoch 4/15\n",
            "215/215 [==============================] - 2s 10ms/step - loss: 0.3843 - accuracy: 0.8313 - val_loss: 0.4228 - val_accuracy: 0.8163\n",
            "Epoch 5/15\n",
            "215/215 [==============================] - 2s 10ms/step - loss: 0.3771 - accuracy: 0.8320 - val_loss: 0.4306 - val_accuracy: 0.8136\n",
            "Epoch 6/15\n",
            "215/215 [==============================] - 2s 10ms/step - loss: 0.3677 - accuracy: 0.8371 - val_loss: 0.4292 - val_accuracy: 0.8136\n",
            "Epoch 7/15\n",
            "215/215 [==============================] - 2s 10ms/step - loss: 0.3573 - accuracy: 0.8402 - val_loss: 0.4302 - val_accuracy: 0.8202\n",
            "Epoch 8/15\n",
            "215/215 [==============================] - 2s 10ms/step - loss: 0.3479 - accuracy: 0.8482 - val_loss: 0.4393 - val_accuracy: 0.8097\n",
            "Epoch 9/15\n",
            "215/215 [==============================] - 2s 10ms/step - loss: 0.3320 - accuracy: 0.8555 - val_loss: 0.4415 - val_accuracy: 0.8150\n",
            "Epoch 10/15\n",
            "215/215 [==============================] - 2s 10ms/step - loss: 0.3181 - accuracy: 0.8629 - val_loss: 0.4584 - val_accuracy: 0.8110\n",
            "Epoch 11/15\n",
            "215/215 [==============================] - 2s 10ms/step - loss: 0.3016 - accuracy: 0.8708 - val_loss: 0.4555 - val_accuracy: 0.8176\n",
            "Epoch 12/15\n",
            "215/215 [==============================] - 2s 10ms/step - loss: 0.2800 - accuracy: 0.8832 - val_loss: 0.4816 - val_accuracy: 0.8136\n",
            "Epoch 13/15\n",
            "215/215 [==============================] - 2s 10ms/step - loss: 0.2548 - accuracy: 0.8961 - val_loss: 0.5099 - val_accuracy: 0.8018\n",
            "Epoch 14/15\n",
            "215/215 [==============================] - 2s 10ms/step - loss: 0.2341 - accuracy: 0.9034 - val_loss: 0.5476 - val_accuracy: 0.8071\n",
            "Epoch 15/15\n",
            "215/215 [==============================] - 2s 10ms/step - loss: 0.2061 - accuracy: 0.9196 - val_loss: 0.5899 - val_accuracy: 0.7874\n"
          ]
        }
      ]
    },
    {
      "cell_type": "code",
      "source": [
        "# Make predictions with the model trained on 100% of the data\n",
        "model_USE_Adam_GRU_iLR_100_percent_pred_probs = model_USE_Adam_GRU_iLR_100_percent.predict(val_sentences)\n",
        "model_USE_Adam_GRU_iLR_100_percent_pred_probs[:10]"
      ],
      "metadata": {
        "colab": {
          "base_uri": "https://localhost:8080/"
        },
        "id": "iCHvEMjeKwk_",
        "outputId": "038216ce-def2-47ad-b10b-c8106780e8e2"
      },
      "execution_count": null,
      "outputs": [
        {
          "output_type": "stream",
          "name": "stdout",
          "text": [
            "24/24 [==============================] - 1s 8ms/step\n"
          ]
        },
        {
          "output_type": "execute_result",
          "data": {
            "text/plain": [
              "array([[0.08994517],\n",
              "       [0.39133418],\n",
              "       [0.9999999 ],\n",
              "       [0.18805008],\n",
              "       [0.09076053],\n",
              "       [0.9989636 ],\n",
              "       [0.9996474 ],\n",
              "       [0.99996424],\n",
              "       [0.9999491 ],\n",
              "       [0.12714817]], dtype=float32)"
            ]
          },
          "metadata": {},
          "execution_count": 87
        }
      ]
    },
    {
      "cell_type": "code",
      "source": [
        "# Turn pred probs into labels\n",
        "model_USE_Adam_GRU_iLR_100_percent_preds = tf.squeeze(tf.round(model_USE_Adam_GRU_iLR_100_percent_pred_probs))\n",
        "model_USE_Adam_GRU_iLR_100_percent_preds[:10]"
      ],
      "metadata": {
        "colab": {
          "base_uri": "https://localhost:8080/"
        },
        "id": "3Sn2QsyDKwu5",
        "outputId": "11f897a3-91d4-4cf0-b1f4-4ed4b0fda436"
      },
      "execution_count": null,
      "outputs": [
        {
          "output_type": "execute_result",
          "data": {
            "text/plain": [
              "<tf.Tensor: shape=(10,), dtype=float32, numpy=array([0., 0., 1., 0., 0., 1., 1., 1., 1., 0.], dtype=float32)>"
            ]
          },
          "metadata": {},
          "execution_count": 88
        }
      ]
    },
    {
      "cell_type": "code",
      "source": [
        "# Evaluate model_USE_10_percent predictions\n",
        "model_USE_Adam_GRU_iLR_100_percent_preds_results = calculate_results(y_true=val_labels,\n",
        "                                    y_pred=model_USE_Adam_GRU_iLR_100_percent_preds)\n",
        "model_USE_Adam_GRU_iLR_100_percent_preds_results"
      ],
      "metadata": {
        "colab": {
          "base_uri": "https://localhost:8080/"
        },
        "id": "QWZl9YF7Lean",
        "outputId": "b4fc9a40-797d-4280-b7fe-db07f5a62d09"
      },
      "execution_count": null,
      "outputs": [
        {
          "output_type": "execute_result",
          "data": {
            "text/plain": [
              "{'accuracy': 78.74015748031496,\n",
              " 'precision': 0.791897156051696,\n",
              " 'recall': 0.7874015748031497,\n",
              " 'f1': 0.7845557264291478}"
            ]
          },
          "metadata": {},
          "execution_count": 89
        }
      ]
    },
    {
      "cell_type": "code",
      "source": [
        "model_USE_Adam_LSTM_iLR_100_percent_preds_results"
      ],
      "metadata": {
        "colab": {
          "base_uri": "https://localhost:8080/"
        },
        "id": "ZUqtXkyALeki",
        "outputId": "79df16e4-e0e0-4e23-8e20-ed8f6098a5b0"
      },
      "execution_count": null,
      "outputs": [
        {
          "output_type": "execute_result",
          "data": {
            "text/plain": [
              "{'accuracy': 81.88976377952756,\n",
              " 'precision': 0.8246806372304727,\n",
              " 'recall': 0.8188976377952756,\n",
              " 'f1': 0.8164733965877927}"
            ]
          },
          "metadata": {},
          "execution_count": 90
        }
      ]
    },
    {
      "cell_type": "code",
      "source": [
        "# model_USE_Adam_iLR_100_percent_preds_results best so far\n",
        "model_USE_Adam_iLR_100_percent_preds_results"
      ],
      "metadata": {
        "colab": {
          "base_uri": "https://localhost:8080/"
        },
        "id": "agrjJcBwBY01",
        "outputId": "bddbaf1b-453c-4785-a477-04f92853adbe"
      },
      "execution_count": null,
      "outputs": [
        {
          "output_type": "execute_result",
          "data": {
            "text/plain": [
              "{'accuracy': 82.02099737532808,\n",
              " 'precision': 0.8223219905078891,\n",
              " 'recall': 0.8202099737532809,\n",
              " 'f1': 0.8188242643827762}"
            ]
          },
          "metadata": {},
          "execution_count": 91
        }
      ]
    },
    {
      "cell_type": "markdown",
      "source": [
        "## Now let us test the USE_true model on 100% of the dataset on the test dataset."
      ],
      "metadata": {
        "id": "GaMs0sP5ezpG"
      }
    },
    {
      "cell_type": "code",
      "source": [
        "test_df[\"text\"]"
      ],
      "metadata": {
        "colab": {
          "base_uri": "https://localhost:8080/"
        },
        "id": "RBsW1Jqzh2vO",
        "outputId": "1f6174fe-67ed-41e4-eb71-629ae9903b9e"
      },
      "execution_count": null,
      "outputs": [
        {
          "output_type": "execute_result",
          "data": {
            "text/plain": [
              "0                      Just happened a terrible car crash\n",
              "1       Heard about #earthquake is different cities, s...\n",
              "2       there is a forest fire at spot pond, geese are...\n",
              "3                Apocalypse lighting. #Spokane #wildfires\n",
              "4           Typhoon Soudelor kills 28 in China and Taiwan\n",
              "                              ...                        \n",
              "3258    EARTHQUAKE SAFETY LOS ANGELES ÛÒ SAFETY FASTE...\n",
              "3259    Storm in RI worse than last hurricane. My city...\n",
              "3260    Green Line derailment in Chicago http://t.co/U...\n",
              "3261    MEG issues Hazardous Weather Outlook (HWO) htt...\n",
              "3262    #CityofCalgary has activated its Municipal Eme...\n",
              "Name: text, Length: 3263, dtype: object"
            ]
          },
          "metadata": {},
          "execution_count": 92
        }
      ]
    },
    {
      "cell_type": "code",
      "source": [
        "# type(test_df[\"text\"])"
      ],
      "metadata": {
        "id": "FDd1V17_h22Q"
      },
      "execution_count": null,
      "outputs": []
    },
    {
      "cell_type": "code",
      "source": [
        "test_sentences = test_df[\"text\"].to_numpy()\n",
        "test_sentences[:5]"
      ],
      "metadata": {
        "colab": {
          "base_uri": "https://localhost:8080/"
        },
        "id": "syQ0No1Bh29X",
        "outputId": "5bf650f4-729c-4e73-c123-411e5479c256"
      },
      "execution_count": null,
      "outputs": [
        {
          "output_type": "execute_result",
          "data": {
            "text/plain": [
              "array(['Just happened a terrible car crash',\n",
              "       'Heard about #earthquake is different cities, stay safe everyone.',\n",
              "       'there is a forest fire at spot pond, geese are fleeing across the street, I cannot save them all',\n",
              "       'Apocalypse lighting. #Spokane #wildfires',\n",
              "       'Typhoon Soudelor kills 28 in China and Taiwan'], dtype=object)"
            ]
          },
          "metadata": {},
          "execution_count": 94
        }
      ]
    },
    {
      "cell_type": "code",
      "source": [
        "# Use trained baseline model to make predictions on the test dataset\n",
        "# Make predictions\n",
        "model_USE_Adam_iLR_100_percent_probs = model_USE_Adam_iLR_100_percent.predict(test_sentences)\n",
        "model_USE_Adam_iLR_100_percent_probs[:20]"
      ],
      "metadata": {
        "colab": {
          "base_uri": "https://localhost:8080/"
        },
        "id": "Y3P5HKjzezwY",
        "outputId": "adadf733-edd4-4fbd-adce-fc76136b593c"
      },
      "execution_count": null,
      "outputs": [
        {
          "output_type": "stream",
          "name": "stdout",
          "text": [
            "102/102 [==============================] - 1s 7ms/step\n"
          ]
        },
        {
          "output_type": "execute_result",
          "data": {
            "text/plain": [
              "array([[0.45712453],\n",
              "       [0.93484926],\n",
              "       [0.7936757 ],\n",
              "       [0.9468036 ],\n",
              "       [0.9806835 ],\n",
              "       [0.70630556],\n",
              "       [0.06725465],\n",
              "       [0.01835823],\n",
              "       [0.04083119],\n",
              "       [0.03524281],\n",
              "       [0.08198759],\n",
              "       [0.08505842],\n",
              "       [0.04829344],\n",
              "       [0.1467104 ],\n",
              "       [0.01455801],\n",
              "       [0.8908288 ],\n",
              "       [0.32808328],\n",
              "       [0.40472415],\n",
              "       [0.08724011],\n",
              "       [0.23129758]], dtype=float32)"
            ]
          },
          "metadata": {},
          "execution_count": 95
        }
      ]
    },
    {
      "cell_type": "code",
      "source": [
        "# Convert model prediction probabilities to label format\n",
        "model_USE_Adam_iLR_100_percent_preds = np.array(model_USE_Adam_iLR_100_percent_probs)\n",
        "model_USE_Adam_iLR_100_percent_preds = np.round(model_USE_Adam_iLR_100_percent_preds).astype(int)\n",
        "model_USE_Adam_iLR_100_percent_preds = [j[0] for j in model_USE_Adam_iLR_100_percent_preds]\n",
        "model_USE_Adam_iLR_100_percent_preds[:20]"
      ],
      "metadata": {
        "colab": {
          "base_uri": "https://localhost:8080/"
        },
        "id": "nVg3aCLKiXVX",
        "outputId": "131a87e6-9f58-4a2a-b748-c6ca8a181dd8"
      },
      "execution_count": null,
      "outputs": [
        {
          "output_type": "execute_result",
          "data": {
            "text/plain": [
              "[0, 1, 1, 1, 1, 1, 0, 0, 0, 0, 0, 0, 0, 0, 0, 1, 0, 0, 0, 0]"
            ]
          },
          "metadata": {},
          "execution_count": 96
        }
      ]
    },
    {
      "cell_type": "code",
      "source": [
        "# len(model_USE_trainable_true_preds)"
      ],
      "metadata": {
        "id": "oe6t5I4siXbv"
      },
      "execution_count": null,
      "outputs": []
    },
    {
      "cell_type": "code",
      "source": [
        "test_df[\"id\"].to_numpy()"
      ],
      "metadata": {
        "colab": {
          "base_uri": "https://localhost:8080/"
        },
        "id": "ghPRKrx5iXiJ",
        "outputId": "558f479c-d15f-444d-b599-30ab52b17f54"
      },
      "execution_count": null,
      "outputs": [
        {
          "output_type": "execute_result",
          "data": {
            "text/plain": [
              "array([    0,     2,     3, ..., 10868, 10874, 10875])"
            ]
          },
          "metadata": {},
          "execution_count": 98
        }
      ]
    },
    {
      "cell_type": "code",
      "source": [
        "len(test_df[\"id\"].to_numpy())"
      ],
      "metadata": {
        "colab": {
          "base_uri": "https://localhost:8080/"
        },
        "id": "IWVEmIXrHDpl",
        "outputId": "b95fb531-7c59-46aa-db87-f36af9394459"
      },
      "execution_count": null,
      "outputs": [
        {
          "output_type": "execute_result",
          "data": {
            "text/plain": [
              "3263"
            ]
          },
          "metadata": {},
          "execution_count": 99
        }
      ]
    },
    {
      "cell_type": "code",
      "source": [
        "len(model_USE_Adam_iLR_100_percent_preds)"
      ],
      "metadata": {
        "colab": {
          "base_uri": "https://localhost:8080/"
        },
        "id": "8DJt2rnsHGPv",
        "outputId": "cee77a3f-fa91-4c4e-be49-0558edb10d94"
      },
      "execution_count": null,
      "outputs": [
        {
          "output_type": "execute_result",
          "data": {
            "text/plain": [
              "3263"
            ]
          },
          "metadata": {},
          "execution_count": 100
        }
      ]
    },
    {
      "cell_type": "code",
      "source": [
        "# format the predictions into the same format as the sample_submission.csv file from Kaggle\n",
        "# (see the Files tab in Colab for what the sample_submission.csv file looks like)\n",
        "import pandas as pd\n",
        "data = {\"id\": test_df[\"id\"].to_numpy(),\n",
        "        \"target\": model_USE_Adam_iLR_100_percent_preds}\n",
        "prediction_df = pd.DataFrame(data)\n",
        "prediction_df.to_csv(\"submission.csv\", index=False)"
      ],
      "metadata": {
        "id": "S_5njHQJiXoZ"
      },
      "execution_count": null,
      "outputs": []
    }
  ]
}