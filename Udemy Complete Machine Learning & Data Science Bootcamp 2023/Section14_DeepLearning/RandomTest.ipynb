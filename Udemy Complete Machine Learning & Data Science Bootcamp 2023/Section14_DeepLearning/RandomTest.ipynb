{
  "nbformat": 4,
  "nbformat_minor": 0,
  "metadata": {
    "colab": {
      "provenance": [],
      "authorship_tag": "ABX9TyNsapeFMehkWh6jIBEsmz9T",
      "include_colab_link": true
    },
    "kernelspec": {
      "name": "python3",
      "display_name": "Python 3"
    },
    "language_info": {
      "name": "python"
    }
  },
  "cells": [
    {
      "cell_type": "markdown",
      "metadata": {
        "id": "view-in-github",
        "colab_type": "text"
      },
      "source": [
        "<a href=\"https://colab.research.google.com/github/SGhuman123/Data-Science-Portfolio/blob/main/Udemy%20Complete%20Machine%20Learning%20%26%20Data%20Science%20Bootcamp%202023/Section14_DeepLearning/RandomTest.ipynb\" target=\"_parent\"><img src=\"https://colab.research.google.com/assets/colab-badge.svg\" alt=\"Open In Colab\"/></a>"
      ]
    },
    {
      "cell_type": "code",
      "execution_count": null,
      "metadata": {
        "id": "O_uIyek_KzKS"
      },
      "outputs": [],
      "source": [
        "# prompt: tell me a story\n",
        "\n",
        "import random\n",
        "\n",
        "# Initialize variables\n",
        "nouns = [\"dog\", \"cat\", \"bird\", \"tree\", \"flower\"]\n",
        "verbs = [\"walks\", \"sings\", \"flies\", \"grows\", \"blooms\"]\n",
        "adjectives = [\"happy\", \"sad\", \"angry\", \"excited\", \"peaceful\"]\n",
        "\n",
        "# Generate a random story\n",
        "for _ in range(3):\n",
        "    noun = random.choice(nouns)\n",
        "    verb = random.choice(verbs)\n",
        "    adjective = random.choice(adjectives)\n",
        "    print(f\"Once upon a time, there was a {adjective} {noun} who loved to {verb}.\")\n"
      ]
    }
  ]
}